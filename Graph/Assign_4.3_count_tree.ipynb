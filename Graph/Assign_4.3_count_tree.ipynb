{
 "cells": [
  {
   "cell_type": "markdown",
   "metadata": {},
   "source": [
    "3.Count the number of nodes at given level in a tree using BFS"
   ]
  },
  {
   "cell_type": "code",
   "execution_count": 2,
   "metadata": {},
   "outputs": [
    {
     "name": "stdout",
     "output_type": "stream",
     "text": [
      "3\n"
     ]
    }
   ],
   "source": [
    "from collections import deque\n",
    "  \n",
    "adj = [[] for i in range(1001)]\n",
    "  \n",
    "def addEdge(v, w):\n",
    "   \n",
    "    adj[v].append(w)\n",
    "  \n",
    "    adj[w].append(v)\n",
    "  \n",
    "def BFS(s, l):\n",
    "     \n",
    "    V = 100\n",
    "    \n",
    "    visited = [False] * V\n",
    "    level = [0] * V\n",
    "  \n",
    "    for i in range(V):\n",
    "        visited[i] = False\n",
    "        level[i] = 0\n",
    "  \n",
    "    queue = deque()\n",
    "  \n",
    "    visited[s] = True\n",
    "    queue.append(s)\n",
    "    level[s] = 0\n",
    "  \n",
    "    while (len(queue) > 0):\n",
    "       \n",
    "        s = queue.popleft()\n",
    "       \n",
    "        for i in adj[s]:\n",
    "            if (not visited[i]):\n",
    "  \n",
    "                level[i] = level[s] + 1\n",
    "                visited[i] = True\n",
    "                queue.append(i)\n",
    "  \n",
    "    count = 0\n",
    "    for i in range(V):\n",
    "        if (level[i] == l):\n",
    "            count += 1\n",
    "             \n",
    "    return count\n",
    "\n",
    "addEdge(0, 1)\n",
    "addEdge(0, 2)\n",
    "addEdge(1, 3)\n",
    "addEdge(2, 4)\n",
    "addEdge(2, 5)\n",
    "  \n",
    "level = 2\n",
    "  \n",
    "print(BFS(0, level))"
   ]
  }
 ],
 "metadata": {
  "kernelspec": {
   "display_name": "Python 3",
   "language": "python",
   "name": "python3"
  },
  "language_info": {
   "codemirror_mode": {
    "name": "ipython",
    "version": 3
   },
   "file_extension": ".py",
   "mimetype": "text/x-python",
   "name": "python",
   "nbconvert_exporter": "python",
   "pygments_lexer": "ipython3",
   "version": "3.10.4"
  }
 },
 "nbformat": 4,
 "nbformat_minor": 2
}
