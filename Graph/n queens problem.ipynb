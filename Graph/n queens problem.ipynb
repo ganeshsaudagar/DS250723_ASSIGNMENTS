{
 "cells": [
  {
   "cell_type": "markdown",
   "metadata": {},
   "source": [
    "**Implement n-Queen’s Problem"
   ]
  },
  {
   "cell_type": "code",
   "execution_count": 2,
   "metadata": {},
   "outputs": [
    {
     "name": "stdout",
     "output_type": "stream",
     "text": [
      "Solution exists:\n",
      "1 0 0 0 0 \n",
      "0 0 0 1 0 \n",
      "0 1 0 0 0 \n",
      "0 0 0 0 1 \n",
      "0 0 1 0 0 \n"
     ]
    }
   ],
   "source": [
    "def is_safe(board, row, col, N):\n",
    "    for i in range(col):\n",
    "        if board[row][i] == 1:\n",
    "            return False\n",
    "\n",
    "    for i, j in zip(range(row, -1, -1), range(col, -1, -1)):\n",
    "        if board[i][j] == 1:\n",
    "            return False\n",
    "\n",
    "    for i, j in zip(range(row, N, 1), range(col, -1, -1)):\n",
    "        if board[i][j] == 1:\n",
    "            return False\n",
    "\n",
    "    return True\n",
    "\n",
    "def solve_n_queens_util(board, col, N):\n",
    "    if col >= N:\n",
    "        return True\n",
    "\n",
    "\n",
    "    for i in range(N):\n",
    "        if is_safe(board, i, col, N):\n",
    "            board[i][col] = 1\n",
    "            if solve_n_queens_util(board, col + 1, N):\n",
    "                return True\n",
    "            board[i][col] = 0\n",
    "\n",
    "    return False\n",
    "\n",
    "def solve_n_queens(N):\n",
    "    board = [[0 for _ in range(N)] for _ in range(N)]\n",
    "\n",
    "    if solve_n_queens_util(board, 0, N):\n",
    "        print(\"Solution exists:\")\n",
    "        for i in range(N):\n",
    "            for j in range(N):\n",
    "                print(board[i][j], end=\" \")\n",
    "            print()\n",
    "    else:\n",
    "        print(\"Solution does not exist.\")\n",
    "\n",
    "\n",
    "\n",
    "N = int(input(\"Enter the value of N for the N-Queens problem: \"))\n",
    "solve_n_queens(N)"
   ]
  }
 ],
 "metadata": {
  "kernelspec": {
   "display_name": "Python 3",
   "language": "python",
   "name": "python3"
  },
  "language_info": {
   "codemirror_mode": {
    "name": "ipython",
    "version": 3
   },
   "file_extension": ".py",
   "mimetype": "text/x-python",
   "name": "python",
   "nbconvert_exporter": "python",
   "pygments_lexer": "ipython3",
   "version": "3.10.4"
  }
 },
 "nbformat": 4,
 "nbformat_minor": 2
}
