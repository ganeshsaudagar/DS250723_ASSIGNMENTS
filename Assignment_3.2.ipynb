{
 "cells": [
  {
   "cell_type": "markdown",
   "metadata": {},
   "source": [
    "Write a Python program to reverse a string.\n",
    "\n",
    "\n",
    "\n",
    "﻿Sample String : \"1234abcd\"\n",
    "\n",
    "Expected Output : \"dcba4321\"\n",
    "\n"
   ]
  },
  {
   "cell_type": "code",
   "execution_count": 3,
   "metadata": {},
   "outputs": [
    {
     "name": "stdout",
     "output_type": "stream",
     "text": [
      "SAMPLE STRING: 1234abcd\n",
      "EXPECTED OUTPUT dcba4321\n"
     ]
    }
   ],
   "source": [
    "def rev_string():               #define function\n",
    "    inp=input(\"enter a string\")  #take input from the user\n",
    "    print(\"SAMPLE STRING:\",inp)   #print input using print function\n",
    "    rev=inp[::-1]                 #reverse string using slice method,and store in the rev variable\n",
    "    print(\"EXPECTED OUTPUT\",rev)  #print the rev \n",
    "rev_string()                       #call function rev_string"
   ]
  }
 ],
 "metadata": {
  "kernelspec": {
   "display_name": "Python 3",
   "language": "python",
   "name": "python3"
  },
  "language_info": {
   "codemirror_mode": {
    "name": "ipython",
    "version": 3
   },
   "file_extension": ".py",
   "mimetype": "text/x-python",
   "name": "python",
   "nbconvert_exporter": "python",
   "pygments_lexer": "ipython3",
   "version": "3.10.4"
  },
  "orig_nbformat": 4
 },
 "nbformat": 4,
 "nbformat_minor": 2
}
