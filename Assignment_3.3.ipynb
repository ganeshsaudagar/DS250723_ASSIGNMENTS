{
 "cells": [
  {
   "cell_type": "markdown",
   "metadata": {},
   "source": [
    "Write a Python function that accepts a string and calculate the number of upper case letters and lower case letters.\n",
    "\n",
    "\n",
    "\n",
    "﻿Sample String : 'The quick Brow Fox'\n",
    "\n",
    "Expected Output :\n",
    "\n",
    "No. of Upper case characters : 3\n",
    "\n",
    "No. of Lower case Characters : 12\n",
    "\n"
   ]
  },
  {
   "cell_type": "code",
   "execution_count": 3,
   "metadata": {},
   "outputs": [
    {
     "name": "stdout",
     "output_type": "stream",
     "text": [
      "SAMPLE STRING: The quick Brow Fox\n",
      "NO OF LOWER CASE CHARACTERS: 12\n",
      "NO OF UPPER CASE CHARACTERS: 3\n"
     ]
    }
   ],
   "source": [
    "def low_upper():     #define a function\n",
    "    string=input(\"ENTER A STRING:\")  #take the string input  from the user\n",
    "    print(\"SAMPLE STRING:\",string)   #print the string using pritn\n",
    "    count_low=0                      #set count_low var to 0\n",
    "    count_upper=0                    #ser count_upper var to 0\n",
    "    for i in range (len(string)):    #run a for loop using range function\n",
    "        if string[i].islower():       #if stirng[i] is having lower char count_low+1\n",
    "            count_low+=1\n",
    "        \n",
    "        elif string[i].isupper():      #if strin[i] is having upper char count_upper+1\n",
    "            count_upper+=1\n",
    "    print(\"NO OF LOWER CASE CHARACTERS:\",count_low)   \n",
    "    print(\"NO OF UPPER CASE CHARACTERS:\",count_upper)\n",
    "low_upper() #call function\n",
    "\n",
    "        \n",
    "    \n",
    "            \n"
   ]
  }
 ],
 "metadata": {
  "kernelspec": {
   "display_name": "Python 3",
   "language": "python",
   "name": "python3"
  },
  "language_info": {
   "codemirror_mode": {
    "name": "ipython",
    "version": 3
   },
   "file_extension": ".py",
   "mimetype": "text/x-python",
   "name": "python",
   "nbconvert_exporter": "python",
   "pygments_lexer": "ipython3",
   "version": "3.10.4"
  },
  "orig_nbformat": 4
 },
 "nbformat": 4,
 "nbformat_minor": 2
}
