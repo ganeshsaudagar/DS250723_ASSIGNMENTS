{
 "cells": [
  {
   "cell_type": "markdown",
   "metadata": {},
   "source": [
    "Q8. Write a program to check if all the brackets are closed in a given code snippet"
   ]
  },
  {
   "cell_type": "code",
   "execution_count": 1,
   "metadata": {},
   "outputs": [
    {
     "name": "stdout",
     "output_type": "stream",
     "text": [
      "[][][\n",
      "Brackets are  not balanced\n"
     ]
    }
   ],
   "source": [
    "def is_bracket_balance(expression):\n",
    "    brackets={\"{\":\"}\",\"[\":\"]\",\"(\":\")\"}\n",
    "    stack=[]\n",
    "\n",
    "    for char in expression:\n",
    "\n",
    "        if char in \"(,{,[\":\n",
    "            stack.append(char)\n",
    "        else:\n",
    "            if stack:\n",
    "                top=stack.pop()\n",
    "                if brackets[top]!=char:\n",
    "                    return False\n",
    "            else:\n",
    "                return False\n",
    "    return False if stack else True\n",
    "\n",
    "expression=input(\"ENTER YOUR EXPESSION:\")\n",
    "print(expression)      \n",
    "\n",
    "if is_bracket_balance(expression):\n",
    "    print(\"Brackets are BALANCED\")\n",
    "else:\n",
    "    print(\"Brackets are  not balanced\")"
   ]
  }
 ],
 "metadata": {
  "kernelspec": {
   "display_name": "Python 3",
   "language": "python",
   "name": "python3"
  },
  "language_info": {
   "codemirror_mode": {
    "name": "ipython",
    "version": 3
   },
   "file_extension": ".py",
   "mimetype": "text/x-python",
   "name": "python",
   "nbconvert_exporter": "python",
   "pygments_lexer": "ipython3",
   "version": "3.10.4"
  },
  "orig_nbformat": 4
 },
 "nbformat": 4,
 "nbformat_minor": 2
}
