{
 "cells": [
  {
   "cell_type": "code",
   "execution_count": 1,
   "metadata": {},
   "outputs": [
    {
     "name": "stdout",
     "output_type": "stream",
     "text": [
      "['1', '24', '0', '5', '896', '125']\n",
      "Smallest number in the stack: 0\n"
     ]
    }
   ],
   "source": [
    "#Q10. Write a program to find the smallest number using a stack\n",
    "\n",
    "class Stack:\n",
    "    def __init__(self):\n",
    "        self.items = []\n",
    "\n",
    "    def is_empty(self):\n",
    "        return len(self.items) == 0\n",
    "\n",
    "    def push(self, item):\n",
    "        self.items.append(item)\n",
    "\n",
    "    def pop(self):\n",
    "        if self.is_empty():\n",
    "            return None\n",
    "        return self.items.pop()\n",
    "\n",
    "    def get_min(self):\n",
    "        if self.is_empty():\n",
    "            return None\n",
    "        return min(self.items)\n",
    "\n",
    "\n",
    "stack_input = input(\"Enter the stack elements: \")\n",
    "\n",
    "stack = Stack()\n",
    "elements = stack_input.split()\n",
    "print(elements)\n",
    "for element in elements:\n",
    "    stack.push(int(element))\n",
    "\n",
    "smallest_number = stack.get_min()\n",
    "\n",
    "if smallest_number is not None:\n",
    "    print(\"Smallest number in the stack:\", smallest_number)\n",
    "else:\n",
    "    print(\"Stack is empty.\")"
   ]
  }
 ],
 "metadata": {
  "kernelspec": {
   "display_name": "Python 3",
   "language": "python",
   "name": "python3"
  },
  "language_info": {
   "codemirror_mode": {
    "name": "ipython",
    "version": 3
   },
   "file_extension": ".py",
   "mimetype": "text/x-python",
   "name": "python",
   "nbconvert_exporter": "python",
   "pygments_lexer": "ipython3",
   "version": "3.10.4"
  },
  "orig_nbformat": 4
 },
 "nbformat": 4,
 "nbformat_minor": 2
}
