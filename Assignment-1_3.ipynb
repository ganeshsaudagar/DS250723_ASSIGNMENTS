{
 "cells": [
  {
   "cell_type": "markdown",
   "metadata": {},
   "source": [
    "Write a Python program to count the number of even and odd numbers from a series of numbers.\n",
    "\n",
    "\n",
    "\n",
    "Sample numbers : numbers = (1, 2, 3, 4, 5, 6, 7, 8, 9) \n",
    "\n",
    "Expected Output :\n",
    "\n",
    "Number of even numbers : 4\n",
    "\n",
    "Number of odd numbers : 5\n",
    "\n"
   ]
  },
  {
   "cell_type": "code",
   "execution_count": 2,
   "metadata": {},
   "outputs": [
    {
     "name": "stdout",
     "output_type": "stream",
     "text": [
      "number of even numbers: 4\n",
      "number of odd numbers: 5\n"
     ]
    }
   ],
   "source": [
    "numbers =[1,2,3,4,5,6,7,8,9]\n",
    "count_even=0\n",
    "count_odd=0\n",
    "\n",
    "for i in range(len(numbers)):\n",
    "\n",
    "    if numbers[i]%2==0:\n",
    "        #print(numbers[i])\n",
    "        count_even+=1\n",
    "        #print(\"count of even:\",count_even)\n",
    "    elif numbers[i]%2!=0:\n",
    "        #print(numbers[i])\n",
    "        count_odd+=1\n",
    "        #print(\"count of odd:\",count_odd)\n",
    "        \n",
    "print (\"number of even numbers:\",count_even)\n",
    "print(\"number of odd numbers:\",count_odd)"
   ]
  }
 ],
 "metadata": {
  "kernelspec": {
   "display_name": "Python 3",
   "language": "python",
   "name": "python3"
  },
  "language_info": {
   "codemirror_mode": {
    "name": "ipython",
    "version": 3
   },
   "file_extension": ".py",
   "mimetype": "text/x-python",
   "name": "python",
   "nbconvert_exporter": "python",
   "pygments_lexer": "ipython3",
   "version": "3.10.4"
  },
  "orig_nbformat": 4
 },
 "nbformat": 4,
 "nbformat_minor": 2
}
