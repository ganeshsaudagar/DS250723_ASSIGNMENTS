{
 "cells": [
  {
   "cell_type": "markdown",
   "metadata": {},
   "source": [
    "You are given a string and your task is to swap cases. In other words, convert all lowercase letters to uppercase letters and vice versa.\n",
    "\n",
    "For Example:\n",
    "\n",
    "Www.HackerRank.com → wWW.hACKERrANK.COM\n",
    "Pythonist 2 → pYTHONIST 2  \n",
    "Function Description\n",
    "\n",
    "Complete the swap_case function in the editor below.\n",
    "\n",
    "swap_case has the following parameters:\n",
    "\n",
    "string s: the string to modify\n",
    "Returns\n",
    "\n",
    "string: the modified string\n",
    "Input Format\n",
    "\n",
    "A single line containing a string .\n",
    "\n",
    "Constraints\n",
    "\n",
    "\n",
    "Sample Input 0\n",
    "\n",
    "HackerRank.com presents \"Pythonist 2\".\n",
    "Sample Output 0\n",
    "\n",
    "hACKERrANK.COM PRESENTS \"pYTHONIST 2\"."
   ]
  },
  {
   "cell_type": "code",
   "execution_count": 22,
   "metadata": {},
   "outputs": [
    {
     "name": "stdout",
     "output_type": "stream",
     "text": [
      "ganeshSAUDAGAR 22\n",
      "GANESHsaudagar 22\n"
     ]
    }
   ],
   "source": [
    "def swap_case(s):      #define swap_case function\n",
    "    return s.swapcase()  #return s.swapcase().swapcase function convert all ower case into upper case and vice versa\n",
    "\n",
    "s=input()                #take a input from the user      \n",
    "print(s)                 #print s\n",
    "p=swap_case(s)           # store swap string into p variable\n",
    "print(p)                 #print p\n"
   ]
  },
  {
   "cell_type": "code",
   "execution_count": 12,
   "metadata": {},
   "outputs": [
    {
     "name": "stdout",
     "output_type": "stream",
     "text": [
      "GeeKSforGEEKS\n",
      "GEEKSFORGEEKS\n",
      "geeksforgeeks\n"
     ]
    }
   ],
   "source": [
    "# Python program to demonstrate the use of\n",
    "# swapcase() method \n",
    " \n",
    "string = \"gEEksFORgeeks\"\n",
    " \n",
    "# prints after swapping all cases\n",
    "print(string.swapcase())  \n",
    " \n",
    "string = \"geeksforgeeks\"\n",
    "print(string.swapcase()) \n",
    " \n",
    "string = \"GEEKSFORGEEKS\"\n",
    "print(string.swapcase())"
   ]
  }
 ],
 "metadata": {
  "kernelspec": {
   "display_name": "Python 3",
   "language": "python",
   "name": "python3"
  },
  "language_info": {
   "codemirror_mode": {
    "name": "ipython",
    "version": 3
   },
   "file_extension": ".py",
   "mimetype": "text/x-python",
   "name": "python",
   "nbconvert_exporter": "python",
   "pygments_lexer": "ipython3",
   "version": "3.10.4"
  },
  "orig_nbformat": 4
 },
 "nbformat": 4,
 "nbformat_minor": 2
}
