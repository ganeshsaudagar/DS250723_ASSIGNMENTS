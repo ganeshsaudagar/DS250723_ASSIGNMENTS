{
 "cells": [
  {
   "cell_type": "code",
   "execution_count": 9,
   "metadata": {},
   "outputs": [
    {
     "name": "stdout",
     "output_type": "stream",
     "text": [
      "2\n",
      "rohan\n",
      "[15.0, 25.0, 18.0]\n",
      "15 25 18\n",
      "{'ganesh': [25.0, 14.0, 26.0], 'rohan': [15.0, 25.0, 18.0]}\n",
      "21.67\n"
     ]
    }
   ],
   "source": [
    "n = int(input())                              #take input from the user\n",
    "print(n)                                      #print the n\n",
    "student_marks = {}                            #take an empty dictionary\n",
    "for _ in range(n):                            #run for loop \n",
    "    name, *line = input().split()\n",
    "    scores = list(map(float, line))\n",
    "    student_marks[name] = scores\n",
    "print(name)\n",
    "print(scores)\n",
    "print(*line)\n",
    "print(student_marks)\n",
    "query_name = input()\n",
    "total_marks = sum(student_marks[query_name])\n",
    "average_marks = total_marks/3 \n",
    "print(\"%.2f\"%(average_marks))"
   ]
  },
  {
   "cell_type": "code",
   "execution_count": 8,
   "metadata": {},
   "outputs": [
    {
     "name": "stdout",
     "output_type": "stream",
     "text": [
      "ganesh\n"
     ]
    }
   ],
   "source": [
    "name, *line = input().split()\n",
    "print(name)"
   ]
  },
  {
   "cell_type": "code",
   "execution_count": null,
   "metadata": {},
   "outputs": [],
   "source": []
  }
 ],
 "metadata": {
  "kernelspec": {
   "display_name": "Python 3",
   "language": "python",
   "name": "python3"
  },
  "language_info": {
   "codemirror_mode": {
    "name": "ipython",
    "version": 3
   },
   "file_extension": ".py",
   "mimetype": "text/x-python",
   "name": "python",
   "nbconvert_exporter": "python",
   "pygments_lexer": "ipython3",
   "version": "3.10.4"
  },
  "orig_nbformat": 4
 },
 "nbformat": 4,
 "nbformat_minor": 2
}
