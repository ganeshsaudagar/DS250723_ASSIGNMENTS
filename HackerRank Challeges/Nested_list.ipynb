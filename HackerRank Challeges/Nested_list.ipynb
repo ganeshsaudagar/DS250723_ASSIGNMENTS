{
 "cells": [
  {
   "cell_type": "markdown",
   "metadata": {},
   "source": [
    "Task\n",
    "Given the names and grades for each student in a class of N students, store them in a nested list and print the name(s) of any student(s) having the second lowest grade.\n",
    "\n",
    "Note: If there are multiple students with the second lowest grade, order their names alphabetically and print each name on a new line.\n",
    "\n",
    "Example\n",
    "records  = [[ “chi”, 20.0]], [“beta”, 50.0], [“alpha”, 50.0]\n",
    "\n",
    "The ordered list of scores is [20.0, 50.0], so the second lowest score is 50.0. There are two students with that score: [“beta”, “alpha”]. Ordered alphabetically, the names are printed as:"
   ]
  },
  {
   "cell_type": "code",
   "execution_count": 24,
   "metadata": {},
   "outputs": [
    {
     "name": "stdout",
     "output_type": "stream",
     "text": [
      "[['nagesh', 15.0], ['sahil ', 45.0], ['chetan', 18.0]]\n",
      "18.0\n",
      "['chetan']\n"
     ]
    }
   ],
   "source": [
    "if __name__ == '__main__':\n",
    "    alist = []\n",
    "    for i in range(int(input())):\n",
    "        name = input()\n",
    "        score = float(input())\n",
    "        alist.append([name, score])\n",
    "second_highest = sorted(set([score for name, score in alist]))[1]\n",
    "print(alist)\n",
    "print(second_highest)\n",
    "#print('\\n'.join(sorted([name for name, score in alist if score == second_highest])))\n",
    "print((sorted([name for name, score in alist if score == second_highest])))"
   ]
  },
  {
   "cell_type": "code",
   "execution_count": 14,
   "metadata": {},
   "outputs": [
    {
     "name": "stdout",
     "output_type": "stream",
     "text": [
      "['apple', 'banana', 'mango']\n"
     ]
    }
   ],
   "source": [
    "fruits = [\"apple\", \"banana\", \"cherry\", \"kiwi\", \"mango\"]\n",
    "\n",
    "newlist = [x for x in fruits if \"a\" in x]    #list comprehension\n",
    "\n",
    "print(newlist)"
   ]
  },
  {
   "cell_type": "code",
   "execution_count": 26,
   "metadata": {},
   "outputs": [
    {
     "name": "stdout",
     "output_type": "stream",
     "text": [
      "John\n",
      "Peter\n",
      "Vicky\n"
     ]
    }
   ],
   "source": [
    "myTuple = (\"John\", \"Peter\", \"Vicky\")\n",
    "\n",
    "x = \"\\n\".join(myTuple)     \n",
    "\n",
    "print(x)"
   ]
  },
  {
   "cell_type": "code",
   "execution_count": 29,
   "metadata": {},
   "outputs": [
    {
     "name": "stdout",
     "output_type": "stream",
     "text": [
      "[['akash', 5], ['rishav', 10], ['gaurav', 15], ['ram', 20]]\n"
     ]
    }
   ],
   "source": [
    "# Python code to sort the tuples using second element\n",
    "# of sublist Function to sort using sorted()\n",
    "def Sort(sub_li):\n",
    " \n",
    "    # reverse = None (Sorts in Ascending order)\n",
    "    # key is set to sort using second element of\n",
    "    # sublist lambda has been used\n",
    "    return(sorted(sub_li, key=lambda x: x[1]))\n",
    " \n",
    "# Input list\n",
    "sub_li = [['rishav', 10], ['akash', 5], ['ram', 20], ['gaurav', 15]]\n",
    " \n",
    "# Printing resultant list\n",
    "print(Sort(sub_li))\n"
   ]
  },
  {
   "cell_type": "code",
   "execution_count": 22,
   "metadata": {},
   "outputs": [
    {
     "name": "stdout",
     "output_type": "stream",
     "text": [
      "[['kareena', 150.0], ['alia', 1580.0], ['deepika', 150.0]]\n",
      "1580.0\n"
     ]
    }
   ],
   "source": [
    "n=int(input())\n",
    "alist=[]\n",
    "for i in range(n):\n",
    "  name = input()\n",
    "  score = float(input())\n",
    "  alist.append([name,score])\n",
    "print(alist)\n",
    "l=sorted(set([score for  name ,score in alist]))[-1]\n",
    "print(l)\n",
    "\n"
   ]
  },
  {
   "cell_type": "code",
   "execution_count": 30,
   "metadata": {},
   "outputs": [
    {
     "name": "stdout",
     "output_type": "stream",
     "text": [
      "[['akash', 5], ['rishav', 10], ['gaurav', 15], ['ram', 20]]\n"
     ]
    }
   ],
   "source": [
    "# Python code to sort the lists using the second element\n",
    "# of sublists inplace way to sort, use of third variable\n",
    "def Sort(sub_li):\n",
    "   \n",
    "    l = len(sub_li)\n",
    "     \n",
    "    for i in range(0, l):\n",
    "        for j in range(0, l-i-1):\n",
    "             \n",
    "            if (sub_li[j][1] > sub_li[j + 1][1]):\n",
    "                tempo = sub_li[j]\n",
    "                sub_li[j] = sub_li[j + 1]\n",
    "                sub_li[j + 1] = tempo\n",
    "     \n",
    "    return sub_li\n",
    " \n",
    "# Input list\n",
    "sub_li = [['rishav', 10], ['akash', 5], ['ram', 20], ['gaurav', 15]]\n",
    " \n",
    "# Printing the list\n",
    "print(Sort(sub_li))"
   ]
  },
  {
   "cell_type": "code",
   "execution_count": 34,
   "metadata": {},
   "outputs": [
    {
     "name": "stdout",
     "output_type": "stream",
     "text": [
      "[['akash', 5], ['rishav', 10], ['gaurav', 15], ['ram', 20]]\n"
     ]
    }
   ],
   "source": [
    "\n",
    "# Python code to sort the tuples using second element\n",
    "# of sublist Function to sort using sorted()\n",
    "def Sort(sub_li):\n",
    " \n",
    "    # reverse = None (Sorts in Ascending order)\n",
    "    # key is set to sort using second element of\n",
    "    # sublist lambda has been used\n",
    "    return(sorted(sub_li, key=lambda x: x[1]))\n",
    " \n",
    "# Input list\n",
    "sub_li = [['rishav', 10], ['akash', 5], ['ram', 20], ['gaurav', 15]]\n",
    " \n",
    "# Printing resultant list\n",
    "print(Sort(sub_li))"
   ]
  }
 ],
 "metadata": {
  "kernelspec": {
   "display_name": "Python 3",
   "language": "python",
   "name": "python3"
  },
  "language_info": {
   "codemirror_mode": {
    "name": "ipython",
    "version": 3
   },
   "file_extension": ".py",
   "mimetype": "text/x-python",
   "name": "python",
   "nbconvert_exporter": "python",
   "pygments_lexer": "ipython3",
   "version": "3.10.4"
  },
  "orig_nbformat": 4
 },
 "nbformat": 4,
 "nbformat_minor": 2
}
