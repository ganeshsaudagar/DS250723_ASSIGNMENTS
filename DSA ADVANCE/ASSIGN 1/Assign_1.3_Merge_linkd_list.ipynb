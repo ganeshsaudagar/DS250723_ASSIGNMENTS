{
 "cells": [
  {
   "cell_type": "markdown",
   "metadata": {},
   "source": [
    "3.Merge a linked list into another linked list at alternate positions."
   ]
  },
  {
   "cell_type": "code",
   "execution_count": 2,
   "metadata": {},
   "outputs": [
    {
     "name": "stdout",
     "output_type": "stream",
     "text": [
      "First lined list: [1, 2, 3, 4, 58]\n",
      "Second linked list: [124, 564, 89]\n",
      "Linked List after merging at alternate positions:\n",
      "1 -> 124 -> 2 -> 564 -> 3 -> 89 -> 4 -> 58 -> None\n"
     ]
    }
   ],
   "source": [
    "class Node:\n",
    "    def __init__(self, data):\n",
    "        self.data = data\n",
    "        self.next = None\n",
    "\n",
    "class LinkedList:\n",
    "    def __init__(self):\n",
    "        self.head = None\n",
    "    \n",
    "    def insert(self, data):\n",
    "        new_node = Node(data)\n",
    "        if self.head is None:\n",
    "            self.head = new_node\n",
    "        else:\n",
    "            temp = self.head\n",
    "            while temp.next:\n",
    "                temp = temp.next\n",
    "            temp.next = new_node\n",
    "    \n",
    "    def merge_alternate(self, other_list):\n",
    "        current_self = self.head\n",
    "        current_other = other_list.head\n",
    "        \n",
    "        \n",
    "        while current_self is not None and current_other is not None:\n",
    "            \n",
    "            next_self = current_self.next\n",
    "            next_other = current_other.next\n",
    "            \n",
    "\n",
    "            current_self.next = current_other\n",
    "            current_other.next = next_self\n",
    "            \n",
    "            \n",
    "            current_self = next_self\n",
    "            current_other = next_other\n",
    "        \n",
    "        \n",
    "        other_list.head = None\n",
    "\n",
    "    def display(self):\n",
    "        temp = self.head\n",
    "        while temp:\n",
    "            print(temp.data, end=\" -> \")\n",
    "            temp = temp.next\n",
    "        print(\"None\")\n",
    "\n",
    "\n",
    "values1 = list(map(int, input(\"Enter space-separated values for the first linked list: \").split()))\n",
    "print(\"First lined list:\",values1)\n",
    "ll1 = LinkedList()\n",
    "for value in values1:\n",
    "    ll1.insert(value)\n",
    "\n",
    "\n",
    "values2 = list(map(int, input(\"Enter space-separated values for the second linked list: \").split()))\n",
    "print(\"Second linked list:\",values2)\n",
    "ll2 = LinkedList()\n",
    "for value in values2:\n",
    "    ll2.insert(value)\n",
    "\n",
    "\n",
    "ll1.merge_alternate(ll2)\n",
    "\n",
    "print(\"Linked List after merging at alternate positions:\")\n",
    "ll1.display()"
   ]
  }
 ],
 "metadata": {
  "kernelspec": {
   "display_name": "Python 3",
   "language": "python",
   "name": "python3"
  },
  "language_info": {
   "codemirror_mode": {
    "name": "ipython",
    "version": 3
   },
   "file_extension": ".py",
   "mimetype": "text/x-python",
   "name": "python",
   "nbconvert_exporter": "python",
   "pygments_lexer": "ipython3",
   "version": "3.10.4"
  },
  "orig_nbformat": 4
 },
 "nbformat": 4,
 "nbformat_minor": 2
}
