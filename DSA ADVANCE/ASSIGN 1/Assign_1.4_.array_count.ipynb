{
 "cells": [
  {
   "cell_type": "markdown",
   "metadata": {},
   "source": [
    "4.In an array, Count Pairs with given sum"
   ]
  },
  {
   "cell_type": "code",
   "execution_count": 4,
   "metadata": {},
   "outputs": [
    {
     "name": "stdout",
     "output_type": "stream",
     "text": [
      "[1, 2, 3, 4, 5]\n",
      "Traget sum: 5\n",
      "NUMBER OF PAIRS WITH SUM: 2\n"
     ]
    }
   ],
   "source": [
    "def count_pairs_with_sum(arr, target_sum):\n",
    "    count = 0\n",
    "    num_freq = {}\n",
    "    \n",
    "    for num in arr:\n",
    "        complement = target_sum - num\n",
    "        if complement in num_freq:\n",
    "            count += num_freq[complement]\n",
    "        if num in num_freq:\n",
    "            num_freq[num] += 1\n",
    "        else:\n",
    "            num_freq[num] = 1\n",
    "    \n",
    "    return count\n",
    "\n",
    "array=list(map(int, input(\"ENTER ARRAY ELEMENTS: \").split()))\n",
    "print(array)\n",
    "target_sum=int(input(\"enter taregt sum:\"))\n",
    "print(\"Traget sum:\",target_sum)\n",
    "\n",
    "print(\"NUMBER OF PAIRS WITH SUM:\",count_pairs_with_sum(array,target_sum))"
   ]
  }
 ],
 "metadata": {
  "kernelspec": {
   "display_name": "Python 3",
   "language": "python",
   "name": "python3"
  },
  "language_info": {
   "codemirror_mode": {
    "name": "ipython",
    "version": 3
   },
   "file_extension": ".py",
   "mimetype": "text/x-python",
   "name": "python",
   "nbconvert_exporter": "python",
   "pygments_lexer": "ipython3",
   "version": "3.10.4"
  },
  "orig_nbformat": 4
 },
 "nbformat": 4,
 "nbformat_minor": 2
}
