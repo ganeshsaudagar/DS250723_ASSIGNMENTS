{
 "cells": [
  {
   "cell_type": "code",
   "execution_count": 1,
   "metadata": {},
   "outputs": [
    {
     "name": "stdout",
     "output_type": "stream",
     "text": [
      "[12, 12, 75, 18, 12, 45, 16, 19]\n",
      "ARRAY AFTER QUICK SORT: [12, 12, 12, 16, 18, 19, 45, 75]\n"
     ]
    }
   ],
   "source": [
    "def quick_sort_recursive(arr):\n",
    "    if len(arr) <= 1:\n",
    "        return arr\n",
    "    \n",
    "    pivot = arr[len(arr) // 2]\n",
    "    left = [x for x in arr if x < pivot]\n",
    "    middle = [x for x in arr if x == pivot]\n",
    "    right = [x for x in arr if x > pivot]\n",
    "    \n",
    "    return quick_sort_recursive(left) + middle + quick_sort_recursive(right)\n",
    "\n",
    "arr = list(map(int, input(\"Enter an array (space-separated): \").split()))\n",
    "print(arr)\n",
    "sorted_arr = quick_sort_recursive(arr)\n",
    "print(\"ARRAY AFTER QUICK SORT:\", sorted_arr)"
   ]
  }
 ],
 "metadata": {
  "kernelspec": {
   "display_name": "Python 3",
   "language": "python",
   "name": "python3"
  },
  "language_info": {
   "codemirror_mode": {
    "name": "ipython",
    "version": 3
   },
   "file_extension": ".py",
   "mimetype": "text/x-python",
   "name": "python",
   "nbconvert_exporter": "python",
   "pygments_lexer": "ipython3",
   "version": "3.10.4"
  }
 },
 "nbformat": 4,
 "nbformat_minor": 2
}
