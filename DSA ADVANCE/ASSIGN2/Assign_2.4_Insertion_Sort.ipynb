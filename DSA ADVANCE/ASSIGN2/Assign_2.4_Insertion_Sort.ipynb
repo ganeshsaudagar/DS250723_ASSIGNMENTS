{
 "cells": [
  {
   "cell_type": "code",
   "execution_count": 1,
   "metadata": {},
   "outputs": [
    {
     "name": "stdout",
     "output_type": "stream",
     "text": [
      "[12, 4512, 56, 78, 90, 1, 0]\n",
      "Array AFTER INSERTION SORT: [0, 1, 12, 56, 78, 90, 4512]\n"
     ]
    }
   ],
   "source": [
    "def insertion_sort_basic(arr):\n",
    "    for i in range(1, len(arr)):\n",
    "        key = arr[i]\n",
    "        j = i - 1\n",
    "        while j >= 0 and key < arr[j]:\n",
    "            arr[j + 1] = arr[j]\n",
    "            j -= 1\n",
    "        arr[j + 1] = key\n",
    "\n",
    "arr = list(map(int, input(\"Enter an array (space-separated): \").split()))\n",
    "print(arr)\n",
    "insertion_sort_basic(arr)\n",
    "print(\"Array AFTER INSERTION SORT:\", arr)"
   ]
  }
 ],
 "metadata": {
  "kernelspec": {
   "display_name": "Python 3",
   "language": "python",
   "name": "python3"
  },
  "language_info": {
   "codemirror_mode": {
    "name": "ipython",
    "version": 3
   },
   "file_extension": ".py",
   "mimetype": "text/x-python",
   "name": "python",
   "nbconvert_exporter": "python",
   "pygments_lexer": "ipython3",
   "version": "3.10.4"
  }
 },
 "nbformat": 4,
 "nbformat_minor": 2
}
