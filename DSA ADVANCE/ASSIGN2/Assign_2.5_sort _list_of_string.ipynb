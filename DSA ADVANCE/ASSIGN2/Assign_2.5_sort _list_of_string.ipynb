{
 "cells": [
  {
   "cell_type": "code",
   "execution_count": 3,
   "metadata": {},
   "outputs": [
    {
     "name": "stdout",
     "output_type": "stream",
     "text": [
      "list before sorting: ['ganesh', 'saudagar', 'is', 'my', 'full', 'name']\n",
      "list after sorting: ['full', 'ganesh', 'is', 'my', 'name', 'saudagar']\n"
     ]
    }
   ],
   "source": [
    "#Write a program to sort list of strings (similar to that of dictionary)\n",
    "\n",
    "def basic_sort(strings):\n",
    "    return sorted(strings)\n",
    "\n",
    "strings = input(\"Enter a list of strings (comma-separated): \").split(',')\n",
    "print(\"list before sorting:\",strings)\n",
    "sorted_strings = basic_sort(strings)\n",
    "print(\"list after sorting:\", sorted_strings)\n"
   ]
  }
 ],
 "metadata": {
  "kernelspec": {
   "display_name": "Python 3",
   "language": "python",
   "name": "python3"
  },
  "language_info": {
   "codemirror_mode": {
    "name": "ipython",
    "version": 3
   },
   "file_extension": ".py",
   "mimetype": "text/x-python",
   "name": "python",
   "nbconvert_exporter": "python",
   "pygments_lexer": "ipython3",
   "version": "3.10.4"
  }
 },
 "nbformat": 4,
 "nbformat_minor": 2
}
