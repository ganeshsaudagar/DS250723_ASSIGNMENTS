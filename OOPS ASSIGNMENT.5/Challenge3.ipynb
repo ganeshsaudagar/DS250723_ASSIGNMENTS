{
 "cells": [
  {
   "cell_type": "markdown",
   "metadata": {},
   "source": [
    "Challenge 3: Implement the Complete Student Class"
   ]
  },
  {
   "cell_type": "code",
   "execution_count": 2,
   "metadata": {},
   "outputs": [],
   "source": [
    "class Student:\n",
    "\n",
    "    def __init__(self):\n",
    "        self.__name=\"Ganesh\"\n",
    "        self.__rollno=25\n",
    "\n",
    "    def setName(self,name):\n",
    "        self.__name=name\n",
    "    def getName(self):\n",
    "        print(self.__name)\n",
    "\n",
    "    def setRollNumber(self,rollno):\n",
    "        self.__rollno=rollno\n",
    "    def getRollNumber(self):\n",
    "        print(self.__rollno)"
   ]
  },
  {
   "cell_type": "code",
   "execution_count": 11,
   "metadata": {},
   "outputs": [
    {
     "name": "stdout",
     "output_type": "stream",
     "text": [
      "Ganesh\n",
      "rohan\n",
      "25\n",
      "55\n"
     ]
    }
   ],
   "source": [
    "obj=Student()\n",
    "obj.getName()\n",
    "obj.setName(\"rohan\")\n",
    "obj.getName()\n",
    "obj.getRollNumber()\n",
    "obj.setRollNumber(55)\n",
    "obj.getRollNumber()"
   ]
  }
 ],
 "metadata": {
  "kernelspec": {
   "display_name": "Python 3",
   "language": "python",
   "name": "python3"
  },
  "language_info": {
   "codemirror_mode": {
    "name": "ipython",
    "version": 3
   },
   "file_extension": ".py",
   "mimetype": "text/x-python",
   "name": "python",
   "nbconvert_exporter": "python",
   "pygments_lexer": "ipython3",
   "version": "3.10.4"
  },
  "orig_nbformat": 4
 },
 "nbformat": 4,
 "nbformat_minor": 2
}
