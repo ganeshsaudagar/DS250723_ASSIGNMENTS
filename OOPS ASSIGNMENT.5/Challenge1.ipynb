{
 "cells": [
  {
   "cell_type": "markdown",
   "metadata": {},
   "source": [
    "Challenge 1: Square Numbers and Return Their Sum"
   ]
  },
  {
   "cell_type": "code",
   "execution_count": 1,
   "metadata": {},
   "outputs": [
    {
     "name": "stdout",
     "output_type": "stream",
     "text": [
      "sample input: 1 3 5\n",
      "sample input square: 1 9 25\n",
      "sample output: 35\n"
     ]
    }
   ],
   "source": [
    "class Point:\n",
    "\n",
    "    def __init__(self,x,y,z):\n",
    "        self.x = x\n",
    "        self.y = y\n",
    "        self.z = z\n",
    "        print(\"sample input:\",self.x,self.y,self.z)\n",
    "\n",
    "    def sqSum(self):\n",
    "         self.x **2\n",
    "         self.y **2\n",
    "         self.z **2\n",
    "         print(\"sample input square:\",self.x**2,self.y**2,self.z**2)\n",
    "         return (self.x**2+self.y**2+self.z**2)\n",
    "obj=Point(1,3,5)\n",
    "print(\"sample output:\",obj.sqSum())\n",
    "\n"
   ]
  }
 ],
 "metadata": {
  "kernelspec": {
   "display_name": "Python 3",
   "language": "python",
   "name": "python3"
  },
  "language_info": {
   "codemirror_mode": {
    "name": "ipython",
    "version": 3
   },
   "file_extension": ".py",
   "mimetype": "text/x-python",
   "name": "python",
   "nbconvert_exporter": "python",
   "pygments_lexer": "ipython3",
   "version": "3.10.4"
  },
  "orig_nbformat": 4
 },
 "nbformat": 4,
 "nbformat_minor": 2
}
