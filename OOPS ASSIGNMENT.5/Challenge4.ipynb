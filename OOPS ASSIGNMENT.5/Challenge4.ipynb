{
 "cells": [
  {
   "cell_type": "markdown",
   "metadata": {},
   "source": [
    "Challenge 4: Implement a Banking Account"
   ]
  },
  {
   "cell_type": "code",
   "execution_count": 4,
   "metadata": {},
   "outputs": [
    {
     "name": "stdout",
     "output_type": "stream",
     "text": [
      "ACCOUNT TITLE: Ganesh Saudagar\n",
      "ACCOUNT BALANCE: 5000\n",
      "ACCOUNT TITLE: Ganesh Saudagar\n",
      "ACCOUNT BALANCE: 5000\n",
      "INTEREST RATE: 5\n"
     ]
    }
   ],
   "source": [
    "class Account:                          # creating parent class name  Account\n",
    "    def __init__(self,title,balance):   # creating init constructor and passing title and balance argumnets\n",
    "        self.title=title\n",
    "        self.balance=balance             # initialize the value of instance variable\n",
    "\n",
    "class SavingAccount(Account):                      # creating  child class SavingAccount\n",
    "    def __init__(self,title,balance,interest_rate): \n",
    "        self.interest_rate=interest_rate\n",
    "        super().__init__(title,balance)           #invoke parent __init__method \n",
    "\n",
    "acc=Account(\"Ganesh Saudagar\",5000)               #create object of Account class and passing title and balance values\n",
    "print(\"ACCOUNT TITLE:\",acc.title)\n",
    "print(\"ACCOUNT BALANCE:\",acc.balance)              \n",
    "\n",
    "acc1=SavingAccount(\"Ganesh Saudagar\",5000,5)        #create object of child class SavingAccount and pasing title balance and rate\n",
    "print(\"ACCOUNT TITLE:\",acc1.title)\n",
    "print(\"ACCOUNT BALANCE:\",acc1.balance)\n",
    "print(\"INTEREST RATE:\",acc1.interest_rate)\n",
    "         \n",
    "        \n",
    "\n"
   ]
  }
 ],
 "metadata": {
  "kernelspec": {
   "display_name": "Python 3",
   "language": "python",
   "name": "python3"
  },
  "language_info": {
   "codemirror_mode": {
    "name": "ipython",
    "version": 3
   },
   "file_extension": ".py",
   "mimetype": "text/x-python",
   "name": "python",
   "nbconvert_exporter": "python",
   "pygments_lexer": "ipython3",
   "version": "3.10.4"
  },
  "orig_nbformat": 4
 },
 "nbformat": 4,
 "nbformat_minor": 2
}
