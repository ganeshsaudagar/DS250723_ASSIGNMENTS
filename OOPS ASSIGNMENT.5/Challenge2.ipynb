{
 "cells": [
  {
   "cell_type": "code",
   "execution_count": 6,
   "metadata": {},
   "outputs": [
    {
     "ename": "NameError",
     "evalue": "name 'num1' is not defined",
     "output_type": "error",
     "traceback": [
      "\u001b[1;31m---------------------------------------------------------------------------\u001b[0m",
      "\u001b[1;31mNameError\u001b[0m                                 Traceback (most recent call last)",
      "\u001b[1;32mc:\\Users\\Ganesh\\Desktop\\DS250723_ASSIGNMENTS\\Assignment_5.2_.ipynb Cell 1\u001b[0m in \u001b[0;36m<cell line: 15>\u001b[1;34m()\u001b[0m\n\u001b[0;32m     <a href='vscode-notebook-cell:/c%3A/Users/Ganesh/Desktop/DS250723_ASSIGNMENTS/Assignment_5.2_.ipynb#W0sZmlsZQ%3D%3D?line=12'>13</a>\u001b[0m         \u001b[39mreturn\u001b[39;00m \u001b[39mself\u001b[39m\u001b[39m.\u001b[39mnum1\u001b[39m/\u001b[39m\u001b[39mself\u001b[39m\u001b[39m.\u001b[39mnum2\n\u001b[0;32m     <a href='vscode-notebook-cell:/c%3A/Users/Ganesh/Desktop/DS250723_ASSIGNMENTS/Assignment_5.2_.ipynb#W0sZmlsZQ%3D%3D?line=13'>14</a>\u001b[0m obj\u001b[39m=\u001b[39mCalculator(\u001b[39m5\u001b[39m,\u001b[39m8\u001b[39m)\n\u001b[1;32m---> <a href='vscode-notebook-cell:/c%3A/Users/Ganesh/Desktop/DS250723_ASSIGNMENTS/Assignment_5.2_.ipynb#W0sZmlsZQ%3D%3D?line=14'>15</a>\u001b[0m \u001b[39mprint\u001b[39m(\u001b[39mf\u001b[39m\u001b[39m\"\u001b[39m\u001b[39mNumber1:\u001b[39m\u001b[39m{\u001b[39;00mnum1\u001b[39m}\u001b[39;00m\u001b[39m,number2:\u001b[39m\u001b[39m{\u001b[39;00mnum2\u001b[39m}\u001b[39;00m\u001b[39m\"\u001b[39m)\n\u001b[0;32m     <a href='vscode-notebook-cell:/c%3A/Users/Ganesh/Desktop/DS250723_ASSIGNMENTS/Assignment_5.2_.ipynb#W0sZmlsZQ%3D%3D?line=15'>16</a>\u001b[0m obj\u001b[39m.\u001b[39madd()\n\u001b[0;32m     <a href='vscode-notebook-cell:/c%3A/Users/Ganesh/Desktop/DS250723_ASSIGNMENTS/Assignment_5.2_.ipynb#W0sZmlsZQ%3D%3D?line=16'>17</a>\u001b[0m \u001b[39mprint\u001b[39m(obj\u001b[39m.\u001b[39madd())\n",
      "\u001b[1;31mNameError\u001b[0m: name 'num1' is not defined"
     ]
    }
   ],
   "source": [
    "class Calculator:\n",
    "\n",
    "    def __init__(self,num1,num2):\n",
    "        self.num1=num1\n",
    "        self.num2=num2\n",
    "    def add(self):\n",
    "        return self.num1+self.num2\n",
    "    def sub(self):\n",
    "        return self.num1-self.num2\n",
    "    def multiply(self):\n",
    "        return self.num1*self.num2\n",
    "    def divide(self):\n",
    "        return self.num1/self.num2\n",
    "obj=Calculator(5,8)\n",
    "print(f\"Number1:{num1},number2:{num2}\")\n",
    "obj.add()\n",
    "print(obj.add())\n",
    "obj.sub()\n",
    "print(obj.sub())\n",
    "obj.multiply()\n",
    "print(obj.multiply())\n",
    "obj.divide()\n",
    "#print(obj.divide())"
   ]
  }
 ],
 "metadata": {
  "kernelspec": {
   "display_name": "Python 3",
   "language": "python",
   "name": "python3"
  },
  "language_info": {
   "codemirror_mode": {
    "name": "ipython",
    "version": 3
   },
   "file_extension": ".py",
   "mimetype": "text/x-python",
   "name": "python",
   "nbconvert_exporter": "python",
   "pygments_lexer": "ipython3",
   "version": "3.10.4"
  },
  "orig_nbformat": 4
 },
 "nbformat": 4,
 "nbformat_minor": 2
}
