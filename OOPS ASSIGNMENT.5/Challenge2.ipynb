{
 "cells": [
  {
   "cell_type": "code",
   "execution_count": 5,
   "metadata": {},
   "outputs": [
    {
     "name": "stdout",
     "output_type": "stream",
     "text": [
      "Number1: 5 number2: 8\n",
      "ADDITION: 13\n",
      "SUBTRACTION: -3\n",
      "MULTIPLICATION: 40\n",
      "DIVISION: 0.625\n"
     ]
    }
   ],
   "source": [
    "class Calculator:\n",
    "\n",
    "    def __init__(self,num1,num2):\n",
    "        self.num1=num1\n",
    "        self.num2=num2\n",
    "    def add(self):\n",
    "        return self.num1+self.num2\n",
    "    def sub(self):\n",
    "        return self.num1-self.num2\n",
    "    def multiply(self):\n",
    "        return self.num1*self.num2\n",
    "    def divide(self):\n",
    "        return self.num1/self.num2\n",
    "obj=Calculator(5,8)\n",
    "print(\"Number1:\",obj.num1,\"number2:\",obj.num2)\n",
    "obj.add()\n",
    "print(\"ADDITION:\",obj.add())\n",
    "obj.sub()\n",
    "print(\"SUBTRACTION:\",obj.sub())\n",
    "obj.multiply()\n",
    "print(\"MULTIPLICATION:\",obj.multiply())\n",
    "obj.divide()\n",
    "print(\"DIVISION:\",obj.divide())"
   ]
  }
 ],
 "metadata": {
  "kernelspec": {
   "display_name": "Python 3",
   "language": "python",
   "name": "python3"
  },
  "language_info": {
   "codemirror_mode": {
    "name": "ipython",
    "version": 3
   },
   "file_extension": ".py",
   "mimetype": "text/x-python",
   "name": "python",
   "nbconvert_exporter": "python",
   "pygments_lexer": "ipython3",
   "version": "3.10.4"
  },
  "orig_nbformat": 4
 },
 "nbformat": 4,
 "nbformat_minor": 2
}
