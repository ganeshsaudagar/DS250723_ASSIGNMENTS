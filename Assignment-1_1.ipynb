{
 "cells": [
  {
   "cell_type": "markdown",
   "id": "3fe5c2a9",
   "metadata": {},
   "source": [
    "Write a Python program to get the Fibonacci series between 0 to 50\n",
    "\n",
    "\n",
    "\n",
    "Note : The Fibonacci Sequence is the series of numbers :\n",
    "\n",
    "0, 1, 1, 2, 3, 5, 8, 13, 21, ....\n",
    "\n",
    "Every next number is found by adding up the two numbers before it.\n",
    "\n",
    "Expected Output : 1 1 2 3 5 8 13 21 34"
   ]
  },
  {
   "cell_type": "code",
   "execution_count": 55,
   "id": "36f2f010",
   "metadata": {},
   "outputs": [
    {
     "name": "stdout",
     "output_type": "stream",
     "text": [
      "the Fibonicci series between 0 to 50:\n",
      "1,1,2,3,5,8,13,21,34,"
     ]
    }
   ],
   "source": [
    "x=0\n",
    "y=1\n",
    "\n",
    "print(\"The Fibonicci series between 0 to 50:\")\n",
    "while y<50:\n",
    "    num=x+y\n",
    "    x=y\n",
    "    y=num\n",
    "    \n",
    "    print(x,end=\",\")\n",
    "      \n"
   ]
  },
  {
   "cell_type": "code",
   "execution_count": 19,
   "id": "edd6a581",
   "metadata": {},
   "outputs": [
    {
     "name": "stdout",
     "output_type": "stream",
     "text": [
      "1\n",
      "1\n",
      "2\n",
      "3\n",
      "5\n",
      "8\n",
      "13\n",
      "21\n",
      "34\n"
     ]
    }
   ],
   "source": [
    "x,y=0,1\n",
    "\n",
    "while y<50:\n",
    "    print(y)\n",
    "    x,y = y,x+y"
   ]
  },
  {
   "cell_type": "markdown",
   "id": "8588640d",
   "metadata": {},
   "source": [
    "Write a Python program that accepts a word from the user and reverse it.\n",
    "\n",
    "\n",
    "\n",
    "Sample Test Case\n",
    "\n",
    "\n",
    "\n",
    "Input : Edyoda\n",
    "\n",
    "output: adoydE"
   ]
  },
  {
   "cell_type": "code",
   "execution_count": 75,
   "id": "dab76ac9",
   "metadata": {},
   "outputs": [
    {
     "name": "stdout",
     "output_type": "stream",
     "text": [
      "Enter a word:ganesh\n",
      "ganesh\n",
      "['g', 'a', 'n', 'e', 's', 'h']\n"
     ]
    },
    {
     "ename": "TypeError",
     "evalue": "list indices must be integers or slices, not tuple",
     "output_type": "error",
     "traceback": [
      "\u001b[1;31m---------------------------------------------------------------------------\u001b[0m",
      "\u001b[1;31mTypeError\u001b[0m                                 Traceback (most recent call last)",
      "Input \u001b[1;32mIn [75]\u001b[0m, in \u001b[0;36m<cell line: 5>\u001b[1;34m()\u001b[0m\n\u001b[0;32m      4\u001b[0m \u001b[38;5;28mprint\u001b[39m(word1)\n\u001b[0;32m      5\u001b[0m \u001b[38;5;28;01mfor\u001b[39;00m i \u001b[38;5;129;01min\u001b[39;00m \u001b[38;5;28mrange\u001b[39m(\u001b[38;5;28mlen\u001b[39m(word1)):\n\u001b[1;32m----> 6\u001b[0m     \u001b[38;5;28mprint\u001b[39m(\u001b[43mword1\u001b[49m\u001b[43m[\u001b[49m\u001b[38;5;241;43m-\u001b[39;49m\u001b[38;5;241;43m1\u001b[39;49m\u001b[43m,\u001b[49m\u001b[43m(\u001b[49m\u001b[38;5;28;43mlen\u001b[39;49m\u001b[43m(\u001b[49m\u001b[43mword1\u001b[49m\u001b[43m)\u001b[49m\u001b[43m)\u001b[49m\u001b[43m]\u001b[49m)\n",
      "\u001b[1;31mTypeError\u001b[0m: list indices must be integers or slices, not tuple"
     ]
    }
   ],
   "source": [
    "word=str(input(\"Enter a word:\"))\n",
    "print(word)\n",
    "word1=list(word)\n",
    "print(word1)\n",
    "for i in range(len(word1)):\n",
    "    print(word1[-1:(len(word1))])\n"
   ]
  },
  {
   "cell_type": "code",
   "execution_count": 66,
   "id": "51b1f85e",
   "metadata": {},
   "outputs": [],
   "source": [
    "def reverse(string):\n",
    "    string = [string[i] for i in range(len(string)-1, -1, -1)]\n",
    "    return \"\".join(string)\n",
    " "
   ]
  },
  {
   "cell_type": "code",
   "execution_count": null,
   "id": "3a1bba38",
   "metadata": {},
   "outputs": [],
   "source": []
  }
 ],
 "metadata": {
  "kernelspec": {
   "display_name": "Python 3 (ipykernel)",
   "language": "python",
   "name": "python3"
  },
  "language_info": {
   "codemirror_mode": {
    "name": "ipython",
    "version": 3
   },
   "file_extension": ".py",
   "mimetype": "text/x-python",
   "name": "python",
   "nbconvert_exporter": "python",
   "pygments_lexer": "ipython3",
   "version": "3.10.4"
  }
 },
 "nbformat": 4,
 "nbformat_minor": 5
}
