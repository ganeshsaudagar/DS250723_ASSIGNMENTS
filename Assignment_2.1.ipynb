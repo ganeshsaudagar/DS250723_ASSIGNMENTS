{
 "cells": [
  {
   "cell_type": "markdown",
   "metadata": {},
   "source": [
    "Write a Python program to get a list, sorted in increasing order by the last element in each tuple from a given list of non-empty tuples\n",
    "\n",
    "Sample List : [(2, 5), (1, 2), (4, 4), (2, 3), (2, 1)]\n",
    "\n",
    "Expected Result : [(2, 1), (1, 2), (2, 3), (4, 4), (2, 5)]"
   ]
  },
  {
   "cell_type": "code",
   "execution_count": 1,
   "metadata": {},
   "outputs": [
    {
     "name": "stdout",
     "output_type": "stream",
     "text": [
      "Sample list: [('2', '5'), ('1', '2'), ('4', '4'), ('2', '3'), ('2', '1')]\n",
      "EXPECTED RESULT: [('2', '1'), ('1', '2'), ('2', '3'), ('4', '4'), ('2', '5')]\n"
     ]
    }
   ],
   "source": [
    "List=list(map(tuple,input(\"ENTER THE ELEMENTS OF THE LIST  :\").split())) #take input from the user ,data type is list\n",
    "\n",
    "print(\"Sample list:\",List)\n",
    "\n",
    "def last(n):        #define a function last which will return the last element of n\n",
    "    return n[::-1]   \n",
    "    \n",
    "New_list=sorted (List, key=last)  #sort the list and store it in the New_list variable\n",
    "\n",
    "\n",
    "print(\"EXPECTED RESULT:\",New_list)    \n"
   ]
  }
 ],
 "metadata": {
  "kernelspec": {
   "display_name": "Python 3",
   "language": "python",
   "name": "python3"
  },
  "language_info": {
   "codemirror_mode": {
    "name": "ipython",
    "version": 3
   },
   "file_extension": ".py",
   "mimetype": "text/x-python",
   "name": "python",
   "nbconvert_exporter": "python",
   "pygments_lexer": "ipython3",
   "version": "3.10.4"
  },
  "orig_nbformat": 4
 },
 "nbformat": 4,
 "nbformat_minor": 2
}
