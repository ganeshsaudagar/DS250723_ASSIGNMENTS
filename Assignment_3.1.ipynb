{
 "cells": [
  {
   "cell_type": "markdown",
   "metadata": {},
   "source": [
    "Write a Python function to sum all the numbers in a list.\n",
    "\n",
    "\n",
    "\n",
    "Sample List : (8, 2, 3, 0, 7)\n",
    "\n",
    "Expected Output : 20\n",
    "\n",
    "\n",
    "\n",
    "Explanation:\n",
    "\n",
    "\n",
    "\n",
    "Summation should like 8+2+3+0+7 = 20"
   ]
  },
  {
   "cell_type": "code",
   "execution_count": 2,
   "metadata": {},
   "outputs": [
    {
     "name": "stdout",
     "output_type": "stream",
     "text": [
      "SAMPLE LIST: [8, 2, 3, 0, 7]\n",
      "EXPECTED OUTPUT: 20\n"
     ]
    }
   ],
   "source": [
    "def Sum():              #define function Sum\n",
    "    List=list(map(int,input(\"ENTER THE ELEMENTS IN THE LIST:\").split()))  #take the input in the List from user\n",
    "    print(\"SAMPLE LIST:\",List)       #print sample list\n",
    "    Add=0                            #assign add variable to 0\n",
    "    for i in List:                   #use for loop for the  elementsin the list\n",
    "        Add+=i                       #add list element and  add to the Add variable\n",
    "    return Add                       #return Add\n",
    "print(\"EXPECTED OUTPUT:\",Sum())"
   ]
  }
 ],
 "metadata": {
  "kernelspec": {
   "display_name": "Python 3",
   "language": "python",
   "name": "python3"
  },
  "language_info": {
   "codemirror_mode": {
    "name": "ipython",
    "version": 3
   },
   "file_extension": ".py",
   "mimetype": "text/x-python",
   "name": "python",
   "nbconvert_exporter": "python",
   "pygments_lexer": "ipython3",
   "version": "3.10.4"
  },
  "orig_nbformat": 4
 },
 "nbformat": 4,
 "nbformat_minor": 2
}
