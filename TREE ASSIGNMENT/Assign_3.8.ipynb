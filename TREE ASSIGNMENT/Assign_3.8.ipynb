{
 "cells": [
  {
   "cell_type": "markdown",
   "metadata": {},
   "source": [
    "8.Count subtress that sum up to a given value x in a binary tree"
   ]
  },
  {
   "cell_type": "code",
   "execution_count": null,
   "metadata": {},
   "outputs": [],
   "source": [
    "class Node:\n",
    "    def __init__(self, data):\n",
    "        self.data = data\n",
    "        self.left = None\n",
    "        self.right = None\n",
    "\n",
    "class BinaryTree:\n",
    "    def __init__(self, root=None):\n",
    "        self.root = root\n",
    "\n",
    "    def create_tree(self):\n",
    "        data = input(\"Enter the value of the root node: \")\n",
    "        if data.lower() == 'none':\n",
    "            return None\n",
    "        root = Node(int(data))\n",
    "        print(\"Enter the left subtree of\", data)\n",
    "        root.left = self.create_tree()\n",
    "        print(\"Enter the right subtree of\", data)\n",
    "        root.right = self.create_tree()\n",
    "        return root\n",
    "\n",
    "    def count_subtrees_with_sum(self, node, target_sum):\n",
    "        if node is None:\n",
    "            return 0\n",
    "        count = 0\n",
    "        if self.subtree_sum(node) == target_sum:\n",
    "            count += 1\n",
    "        count += self.count_subtrees_with_sum(node.left, target_sum)\n",
    "        count += self.count_subtrees_with_sum(node.right, target_sum)\n",
    "        return count\n",
    "\n",
    "    def subtree_sum(self, node):\n",
    "        if node is None:\n",
    "            return 0\n",
    "        return node.data + self.subtree_sum(node.left) + self.subtree_sum(node.right)\n",
    "\n",
    "\n",
    "\n",
    "tree = BinaryTree()\n",
    "tree.root = tree.create_tree()\n",
    "\n",
    "target_sum = int(input(\"Enter the target sum: \"))\n",
    "count_subtrees = tree.count_subtrees_with_sum(tree.root, target_sum)\n",
    "print(\"Count of subtrees with sum\", target_sum, \":\", count_subtrees)"
   ]
  }
 ],
 "metadata": {
  "kernelspec": {
   "display_name": "Python 3",
   "language": "python",
   "name": "python3"
  },
  "language_info": {
   "codemirror_mode": {
    "name": "ipython",
    "version": 3
   },
   "file_extension": ".py",
   "mimetype": "text/x-python",
   "name": "python",
   "nbconvert_exporter": "python",
   "pygments_lexer": "ipython3",
   "version": "3.10.4"
  }
 },
 "nbformat": 4,
 "nbformat_minor": 2
}
