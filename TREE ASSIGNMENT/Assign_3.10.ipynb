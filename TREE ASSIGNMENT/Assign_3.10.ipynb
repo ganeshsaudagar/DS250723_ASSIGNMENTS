{
 "cells": [
  {
   "cell_type": "markdown",
   "metadata": {},
   "source": [
    "10.Print the nodes at odd levels of a tree"
   ]
  },
  {
   "cell_type": "code",
   "execution_count": 2,
   "metadata": {},
   "outputs": [
    {
     "name": "stdout",
     "output_type": "stream",
     "text": [
      "Nodes at odd levels:\n",
      "1\n",
      "5\n",
      "1\n",
      "2\n",
      "6\n"
     ]
    }
   ],
   "source": [
    "class TreeNode:\n",
    "    def __init__(self, value):\n",
    "        self.value = value\n",
    "        self.left = None\n",
    "        self.right = None\n",
    "\n",
    "def print_odd_level_nodes_stack(root):\n",
    "    if not root:\n",
    "        return\n",
    "\n",
    "    stack = [(root, 1)]\n",
    "\n",
    "    while stack:\n",
    "        current, level = stack.pop()\n",
    "\n",
    "        if level % 2 != 0:\n",
    "            print(current.value)\n",
    "\n",
    "        if current.right:\n",
    "            stack.append((current.right, level + 1))\n",
    "        if current.left:\n",
    "            stack.append((current.left, level + 1))\n",
    "\n",
    "def build_tree():\n",
    "    value = int(input(\"Enter the value for the root node: \"))\n",
    "    root = TreeNode(value)\n",
    "    \n",
    "    queue = [root]\n",
    "    \n",
    "    while queue:\n",
    "        current = queue.pop(0)\n",
    "        left_value = input(f\"Enter the left child value for {current.value} (or 'None' if no left child): \")\n",
    "        if left_value.lower() != 'none':\n",
    "            current.left = TreeNode(int(left_value))\n",
    "            queue.append(current.left)\n",
    "        \n",
    "        right_value = input(f\"Enter the right child value for {current.value} (or 'None' if no right child): \")\n",
    "        if right_value.lower() != 'none':\n",
    "            current.right = TreeNode(int(right_value))\n",
    "            queue.append(current.right)\n",
    "    \n",
    "    return root\n",
    "\n",
    "root = build_tree()\n",
    "print(\"Nodes at odd levels:\")\n",
    "print_odd_level_nodes_stack(root)"
   ]
  }
 ],
 "metadata": {
  "kernelspec": {
   "display_name": "Python 3",
   "language": "python",
   "name": "python3"
  },
  "language_info": {
   "codemirror_mode": {
    "name": "ipython",
    "version": 3
   },
   "file_extension": ".py",
   "mimetype": "text/x-python",
   "name": "python",
   "nbconvert_exporter": "python",
   "pygments_lexer": "ipython3",
   "version": "3.10.4"
  }
 },
 "nbformat": 4,
 "nbformat_minor": 2
}
