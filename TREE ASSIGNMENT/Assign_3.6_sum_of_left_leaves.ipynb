{
 "cells": [
  {
   "cell_type": "markdown",
   "metadata": {},
   "source": [
    "6.Find sum of all left leaves in a given Binary Tree"
   ]
  },
  {
   "cell_type": "code",
   "execution_count": 4,
   "metadata": {},
   "outputs": [
    {
     "name": "stdout",
     "output_type": "stream",
     "text": [
      "Sum of left leaves: 4\n"
     ]
    }
   ],
   "source": [
    "class TreeNode:\n",
    "    def __init__(self, value):\n",
    "        self.value = value\n",
    "        self.left = None\n",
    "        self.right = None\n",
    "\n",
    "def sum_of_left_leaves(root, is_left=False):\n",
    "    if not root:\n",
    "        return 0\n",
    "    if not root.left and not root.right and is_left:\n",
    "        return root.value\n",
    "    return sum_of_left_leaves(root.left, True) + sum_of_left_leaves(root.right, False)\n",
    "\n",
    "def build_binary_tree():\n",
    "    value = int(input(\"Enter the value of the root node: \"))\n",
    "    root = TreeNode(value)\n",
    "    nodes = [root]\n",
    "\n",
    "    while nodes:\n",
    "        current = nodes.pop(0)\n",
    "        left_value = input(f\"Enter the left child value of {current.value} (or type 'None'): \")\n",
    "        if left_value.lower() != 'none':\n",
    "            current.left = TreeNode(int(left_value))\n",
    "            nodes.append(current.left)\n",
    "\n",
    "        right_value = input(f\"Enter the right child value of {current.value} (or type 'None'): \")\n",
    "        if right_value.lower() != 'none':\n",
    "            current.right = TreeNode(int(right_value))\n",
    "            nodes.append(current.right)\n",
    "\n",
    "    return root\n",
    "\n",
    "root_node = build_binary_tree()\n",
    "\n",
    "result = sum_of_left_leaves(root_node)\n",
    "print(f\"Sum of left leaves: {result}\")"
   ]
  }
 ],
 "metadata": {
  "kernelspec": {
   "display_name": "Python 3",
   "language": "python",
   "name": "python3"
  },
  "language_info": {
   "codemirror_mode": {
    "name": "ipython",
    "version": 3
   },
   "file_extension": ".py",
   "mimetype": "text/x-python",
   "name": "python",
   "nbconvert_exporter": "python",
   "pygments_lexer": "ipython3",
   "version": "3.10.4"
  }
 },
 "nbformat": 4,
 "nbformat_minor": 2
}
