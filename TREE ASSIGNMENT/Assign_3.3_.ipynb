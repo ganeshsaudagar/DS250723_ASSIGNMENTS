{
 "cells": [
  {
   "cell_type": "markdown",
   "metadata": {},
   "source": [
    "3.Perform Pre-order, Post-order, In-order traversal"
   ]
  },
  {
   "cell_type": "code",
   "execution_count": 15,
   "metadata": {},
   "outputs": [
    {
     "name": "stdout",
     "output_type": "stream",
     "text": [
      "preorder: 1.2.4.5.3.6.7.\n",
      "inorder: 4.2.5.1.6.3.7.\n",
      "postorder: 4.2.5.6.3.7.1.\n"
     ]
    }
   ],
   "source": [
    "class Node:\n",
    "    def __init__(self,data):\n",
    "        self.left=None\n",
    "        self.right=None\n",
    "        self.data=data\n",
    "\n",
    "class BinaryTree():\n",
    "    def __init__(self,root):\n",
    "        self.root=Node(root)\n",
    "\n",
    "    def print_tree(self,traversal_type):\n",
    "        if traversal_type==\"preorder\":\n",
    "            return self.Preorder(tree.root,\"\")\n",
    "        \n",
    "        elif traversal_type==\"inorder\":\n",
    "            return self.Inorder(tree.root,\"\")\n",
    "        \n",
    "        elif traversal_type== \"postorder\":\n",
    "            return self.PostOrder(tree.root,\"\")\n",
    "        else:\n",
    "            print(\"Traversal Type\"+ str(traversal_type) + \"is not supported\")\n",
    "\n",
    "    def Preorder(self,start,traversal):\n",
    "        #root > left > right\n",
    "        if start:\n",
    "            traversal+=(str(start.data)+\".\")\n",
    "            traversal=self.Preorder(start.left,traversal)\n",
    "            traversal=self.Preorder(start.right,traversal)\n",
    "        return traversal\n",
    "    \n",
    "    def Inorder(self,start,traversal):\n",
    "        #left > root > right\n",
    "\n",
    "        if start:\n",
    "            traversal=self.Inorder(start.left,traversal)\n",
    "            traversal+=(str(start.data)+\".\")\n",
    "\n",
    "            traversal=self.Inorder(start.right,traversal)\n",
    "        return traversal\n",
    "    \n",
    "    def PostOrder(self,start,traversal):\n",
    "\n",
    "        #left > right > root\n",
    "        if start:\n",
    "            traversal=self.Inorder(start.left,traversal)\n",
    "            \n",
    "            traversal=self.Inorder(start.right,traversal)\n",
    "            traversal+=(str(start.data)+\".\")\n",
    "        return traversal\n",
    "\n",
    "    \n",
    "\n",
    "\n",
    "\n",
    "tree=BinaryTree(1)\n",
    "tree.root.left=Node(2)\n",
    "tree.root.right=Node(3)\n",
    "tree.root.left.left=Node(4)\n",
    "tree.root.left.right=Node(5)\n",
    "tree.root.right.left=Node(6)\n",
    "tree.root.right.right=Node(7)\n",
    "\n",
    "print(\"preorder:\",tree.print_tree(\"preorder\"))\n",
    "print(\"inorder:\",tree.print_tree(\"inorder\"))\n",
    "print(\"postorder:\",tree.print_tree(\"postorder\"))"
   ]
  }
 ],
 "metadata": {
  "kernelspec": {
   "display_name": "Python 3",
   "language": "python",
   "name": "python3"
  },
  "language_info": {
   "codemirror_mode": {
    "name": "ipython",
    "version": 3
   },
   "file_extension": ".py",
   "mimetype": "text/x-python",
   "name": "python",
   "nbconvert_exporter": "python",
   "pygments_lexer": "ipython3",
   "version": "3.10.4"
  }
 },
 "nbformat": 4,
 "nbformat_minor": 2
}
