{
 "cells": [
  {
   "cell_type": "markdown",
   "metadata": {},
   "source": [
    "4.Function to print all the leaves in a given binary tree"
   ]
  },
  {
   "cell_type": "code",
   "execution_count": 5,
   "metadata": {},
   "outputs": [
    {
     "name": "stdout",
     "output_type": "stream",
     "text": [
      "9 6 5 10 "
     ]
    }
   ],
   "source": [
    "\n",
    "class newNode: \n",
    "     \n",
    "    def __init__(self, data): \n",
    "        self.data = data \n",
    "        self.left = None\n",
    "        self.right = None\n",
    "\n",
    "def printLeafNodes(root):\n",
    " \n",
    "    if root == None:\n",
    "        return\n",
    "   \n",
    "    if (root.left == None and\n",
    "        root.right == None):\n",
    "        \n",
    "        print(root.data, end = \" \")\n",
    "    \n",
    "    if root.right:\n",
    "        printLeafNodes(root.right)\n",
    "    \n",
    "    if root.left:\n",
    "        printLeafNodes(root.left)\n",
    "\n",
    "root = newNode(1)\n",
    "root.left = newNode(2)\n",
    "root.right = newNode(3)\n",
    "root.left.left = newNode(4)\n",
    "root.left.right = newNode(5)\n",
    "root.right.left = newNode(6)\n",
    "root.right.right = newNode(7)\n",
    "root.left.left.left = newNode(8)\n",
    "root.right.right.left = newNode(9)\n",
    "root.left.left.left.right = newNode(10)\n",
    " \n",
    "printLeafNodes(root)"
   ]
  }
 ],
 "metadata": {
  "kernelspec": {
   "display_name": "Python 3",
   "language": "python",
   "name": "python3"
  },
  "language_info": {
   "codemirror_mode": {
    "name": "ipython",
    "version": 3
   },
   "file_extension": ".py",
   "mimetype": "text/x-python",
   "name": "python",
   "nbconvert_exporter": "python",
   "pygments_lexer": "ipython3",
   "version": "3.10.4"
  }
 },
 "nbformat": 4,
 "nbformat_minor": 2
}
