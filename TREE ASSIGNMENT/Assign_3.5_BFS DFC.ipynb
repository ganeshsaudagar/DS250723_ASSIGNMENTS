{
 "cells": [
  {
   "cell_type": "markdown",
   "metadata": {},
   "source": [
    "5.Implement BFS (Breath First Search) and DFS (Depth First Search)"
   ]
  },
  {
   "cell_type": "code",
   "execution_count": 2,
   "metadata": {},
   "outputs": [
    {
     "name": "stdout",
     "output_type": "stream",
     "text": [
      "Build the binary tree:\n"
     ]
    },
    {
     "name": "stdout",
     "output_type": "stream",
     "text": [
      "\n",
      "BFS Traversal:\n",
      "5 7 5 7 \n",
      "DFS Traversal:\n",
      "5 7 5 7 "
     ]
    }
   ],
   "source": [
    "from collections import deque\n",
    "\n",
    "class Node:\n",
    "    def __init__(self, value):\n",
    "        self.value = value\n",
    "        self.left = None\n",
    "        self.right = None\n",
    "\n",
    "def build_binary_tree():\n",
    "    value = input(\"Enter the value for the node (or type 'None' to skip): \")\n",
    "    if value.lower() == \"none\":\n",
    "        return None\n",
    "    new_node = Node(int(value))\n",
    "    new_node.left = build_binary_tree()\n",
    "    new_node.right = build_binary_tree()\n",
    "    return new_node\n",
    "\n",
    "def bfs_traversal(root):\n",
    "    if not root:\n",
    "        return\n",
    "    \n",
    "    queue = deque()\n",
    "    queue.append(root)\n",
    "    while queue:\n",
    "        node = queue.popleft()\n",
    "        print(node.value, end=\" \")\n",
    "        if node.left:\n",
    "            queue.append(node.left)\n",
    "        if node.right:\n",
    "            queue.append(node.right)\n",
    "\n",
    "def dfs_traversal(node):\n",
    "    if not node:\n",
    "        return\n",
    "    print(node.value, end=\" \")\n",
    "    dfs_traversal(node.left)\n",
    "    dfs_traversal(node.right)\n",
    "\n",
    "\n",
    "print(\"Build the binary tree:\")\n",
    "root = build_binary_tree()\n",
    "\n",
    "\n",
    "print(\"\\nBFS Traversal:\")\n",
    "bfs_traversal(root)\n",
    "\n",
    "\n",
    "print(\"\\nDFS Traversal:\")\n",
    "dfs_traversal(root)"
   ]
  }
 ],
 "metadata": {
  "kernelspec": {
   "display_name": "Python 3",
   "language": "python",
   "name": "python3"
  },
  "language_info": {
   "codemirror_mode": {
    "name": "ipython",
    "version": 3
   },
   "file_extension": ".py",
   "mimetype": "text/x-python",
   "name": "python",
   "nbconvert_exporter": "python",
   "pygments_lexer": "ipython3",
   "version": "3.10.4"
  }
 },
 "nbformat": 4,
 "nbformat_minor": 2
}
