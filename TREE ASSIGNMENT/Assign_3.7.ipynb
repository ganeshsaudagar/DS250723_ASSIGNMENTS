{
 "cells": [
  {
   "cell_type": "markdown",
   "metadata": {},
   "source": [
    "7.Find sum of all nodes of the given perfect binary tree"
   ]
  },
  {
   "cell_type": "code",
   "execution_count": 2,
   "metadata": {},
   "outputs": [
    {
     "name": "stdout",
     "output_type": "stream",
     "text": [
      "Sum of all nodes: 28\n"
     ]
    }
   ],
   "source": [
    "class TreeNode:\n",
    "    def __init__(self, value):\n",
    "        self.value = value\n",
    "        self.left = None\n",
    "        self.right = None\n",
    "\n",
    "def sum_of_nodes(root):\n",
    "    if not root:\n",
    "        return 0\n",
    "    return root.value + sum_of_nodes(root.left) + sum_of_nodes(root.right)\n",
    "\n",
    "\n",
    "def build_perfect_binary_tree(depth, value=1):\n",
    "    if depth == 0:\n",
    "        return None\n",
    "    root = TreeNode(value)\n",
    "    root.left = build_perfect_binary_tree(depth - 1, 2 * value)\n",
    "    root.right = build_perfect_binary_tree(depth - 1, 2 * value + 1)\n",
    "    return root\n",
    "\n",
    "depth = int(input(\"Enter the depth of the perfect binary tree: \"))\n",
    "root_node = build_perfect_binary_tree(depth)\n",
    "\n",
    "result = sum_of_nodes(root_node)\n",
    "print(f\"Sum of all nodes: {result}\")"
   ]
  },
  {
   "cell_type": "code",
   "execution_count": null,
   "metadata": {},
   "outputs": [],
   "source": []
  }
 ],
 "metadata": {
  "kernelspec": {
   "display_name": "Python 3",
   "language": "python",
   "name": "python3"
  },
  "language_info": {
   "codemirror_mode": {
    "name": "ipython",
    "version": 3
   },
   "file_extension": ".py",
   "mimetype": "text/x-python",
   "name": "python",
   "nbconvert_exporter": "python",
   "pygments_lexer": "ipython3",
   "version": "3.10.4"
  }
 },
 "nbformat": 4,
 "nbformat_minor": 2
}
