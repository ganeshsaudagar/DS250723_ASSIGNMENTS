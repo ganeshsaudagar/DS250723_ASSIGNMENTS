{
 "cells": [
  {
   "cell_type": "markdown",
   "metadata": {},
   "source": [
    "Challenge 2: Implement a Calculator Class"
   ]
  },
  {
   "cell_type": "code",
   "execution_count": 1,
   "metadata": {},
   "outputs": [
    {
     "name": "stdout",
     "output_type": "stream",
     "text": [
      "20\n",
      "4\n",
      "96\n",
      "1.5\n"
     ]
    }
   ],
   "source": [
    "class Calculator:\n",
    "\n",
    "    def __init__(self,num1,num2):\n",
    "        self.num1=num1\n",
    "        self.num2=num2\n",
    "    def add(self):\n",
    "        return self.num1+self.num2\n",
    "    def sub(self):\n",
    "        return self.num1-self.num2\n",
    "    def multiply(self):\n",
    "        return self.num1*self.num2\n",
    "    def divide(self):\n",
    "        return self.num1/self.num2\n",
    "obj=Calculator(12,8)\n",
    "obj.add()\n",
    "print(obj.add())\n",
    "obj.sub()\n",
    "print(obj.sub())\n",
    "obj.multiply()\n",
    "print(obj.multiply())\n",
    "obj.divide()\n",
    "print(obj.divide())\n"
   ]
  }
 ],
 "metadata": {
  "kernelspec": {
   "display_name": "Python 3",
   "language": "python",
   "name": "python3"
  },
  "language_info": {
   "codemirror_mode": {
    "name": "ipython",
    "version": 3
   },
   "file_extension": ".py",
   "mimetype": "text/x-python",
   "name": "python",
   "nbconvert_exporter": "python",
   "pygments_lexer": "ipython3",
   "version": "3.10.4"
  },
  "orig_nbformat": 4
 },
 "nbformat": 4,
 "nbformat_minor": 2
}
