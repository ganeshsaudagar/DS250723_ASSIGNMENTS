{
 "cells": [
  {
   "cell_type": "markdown",
   "metadata": {},
   "source": [
    "Create an assignment for File handling of JSON files in Python\n",
    "Assignment 1\n",
    "👉 1. Create a JSON file (employee.json) containing employee information of minimum 5 employees. Each employee information consists of Name, DOB, Height, City, State. Write a python program that reads this information from the JSON file and saves the information into a list of objects of Employee class. Finally print the list of the Employee objects.\n",
    "\n",
    "👉 2. Create a dictionary of any 7 Indian states and their capitals. Write this into a JSON file"
   ]
  },
  {
   "cell_type": "code",
   "execution_count": 17,
   "metadata": {},
   "outputs": [
    {
     "name": "stdout",
     "output_type": "stream",
     "text": [
      "Name: Ganesh saudagar\n",
      "Date of Birth: 22-01-1998\n",
      "Height in cm: 167\n",
      "City: Sambhaji Nagar\n",
      "State: Maharashtra\n",
      "----->>>------\n",
      "Name: Manoj Gadekar\n",
      "Date of Birth: 15-07-1998\n",
      "Height in cm: 168.15\n",
      "City: Pune\n",
      "State: Maharashtra\n",
      "----->>>------\n",
      "Name: Santosh Darunte\n",
      "Date of Birth: 10-10-2000\n",
      "Height in cm: 166\n",
      "City: Bangalore\n",
      "State: Karnataka\n",
      "----->>>------\n",
      "Name: Chandan Dadake\n",
      "Date of Birth: 01-05-1997\n",
      "Height in cm: 165\n",
      "City: Surat\n",
      "State: Gujarat\n",
      "----->>>------\n",
      "Name: Taleb Sheikh\n",
      "Date of Birth: 25-12-2001\n",
      "Height in cm: 173\n",
      "City: Jalgaon\n",
      "State: Maharashtra\n",
      "----->>>------\n"
     ]
    }
   ],
   "source": [
    "import json\n",
    "\n",
    "class Emp:                                           #created a class Emp\n",
    "    def __init__(self,name,dob,height,city,state):   #__init__contructor\n",
    "        self.name=name                               #initialised instance varibales \n",
    "        self.dob=dob\n",
    "        self.height=height\n",
    "        self.city=city\n",
    "        self.state=state\n",
    "\n",
    "with open (\"employees.json\") as f:                  #open the json file as f\n",
    "    data=json.load(f)                               #store the json file data into variable data\n",
    "    #print(data)                                    #data type of the json file data is the list,and json file data is in the dict inside list\n",
    "\n",
    "employee_details=[]                                 #create an empty list\n",
    "\n",
    "for emp_data in data:                               #run for loop for the elements in data\n",
    "    name=emp_data[\"name\"]                           #here assigning key values of into variables\n",
    "    dob=emp_data[\"DOB\"]\n",
    "    height=emp_data[\"Height\"]\n",
    "    city=emp_data[\"City\"]\n",
    "    state=emp_data[\"State\"]\n",
    "\n",
    "    obj=Emp(name,dob,height,city,state)             #created an object of Emp  class and passing the name dob height city and state param\n",
    "    #print(obj)\n",
    "    employee_details.append(obj)                    #append the obj values into list employee_details\n",
    "\n",
    "for obj in employee_details:                        #here we are interating object using for loop\n",
    "    print(\"Name:\",obj.name)                         #accessing class object\n",
    "    print(\"Date of Birth:\",obj.dob)\n",
    "    print(\"Height in cm:\",obj.height)\n",
    "    print(\"City:\",obj.city)\n",
    "    print(\"State:\",obj.state)\n",
    "    print(\"----->>>------\")\n",
    "\n",
    "\n",
    "\n"
   ]
  }
 ],
 "metadata": {
  "kernelspec": {
   "display_name": "Python 3",
   "language": "python",
   "name": "python3"
  },
  "language_info": {
   "codemirror_mode": {
    "name": "ipython",
    "version": 3
   },
   "file_extension": ".py",
   "mimetype": "text/x-python",
   "name": "python",
   "nbconvert_exporter": "python",
   "pygments_lexer": "ipython3",
   "version": "3.10.4"
  },
  "orig_nbformat": 4
 },
 "nbformat": 4,
 "nbformat_minor": 2
}
