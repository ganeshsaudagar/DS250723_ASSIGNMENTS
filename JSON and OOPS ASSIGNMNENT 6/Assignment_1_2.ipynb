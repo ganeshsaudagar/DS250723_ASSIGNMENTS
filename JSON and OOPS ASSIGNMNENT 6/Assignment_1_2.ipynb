{
 "cells": [
  {
   "cell_type": "code",
   "execution_count": null,
   "metadata": {},
   "outputs": [],
   "source": [
    "import json\n",
    "\n",
    "dict={}\n",
    "state=input(\"ENTER THE STATE\")\n",
    "capital=input(\"ENTER THE CPITAL\")\n",
    "for i in range(7):\n",
    "    dict[state]=capital\n",
    "    \n",
    "    \n",
    "\n",
    "'''\n",
    "dict={                                        #create dictionary of 7 Indian state with their corresponding capitals\n",
    "      \"Maharashtra\":\"Mumbai\",\n",
    "      \"Manipur\":\"Imphal\",\n",
    "      \"Bihar\":\"Patana\",\n",
    "      \"Goa\":\"Panaji\",\n",
    "      \"Haryana\":\"Chandigarh\",\n",
    "      \"Gujarat\":\"Gandhinagar\",\n",
    "      \"Sikkim\":\"Gangtok\",\n",
    "}'''\n",
    "with open(\"indian_states.json\",\"w\") as file:     #open file in write mode\n",
    "    json.dump(dict,file,indent=4)                         #transfer dict data into json file\n",
    "\n",
    "    print(\"yes ,data successully written in json file\")"
   ]
  }
 ],
 "metadata": {
  "kernelspec": {
   "display_name": "Python 3",
   "language": "python",
   "name": "python3"
  },
  "language_info": {
   "name": "python",
   "version": "3.10.4"
  },
  "orig_nbformat": 4
 },
 "nbformat": 4,
 "nbformat_minor": 2
}
