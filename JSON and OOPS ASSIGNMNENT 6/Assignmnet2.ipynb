{
 "cells": [
  {
   "cell_type": "markdown",
   "metadata": {},
   "source": [
    "Assignment 2\n",
    "👉 1. Create a class named ‘Dog’. It should have a constructor which accepts its name, age and coat color. You must perform the following operations:\n",
    "\n",
    "🔴 a. It should have a function ‘description()’ which prints the name and age of the dog.\n",
    "🔴 b. It should have a function ‘get_info()’ which prints the coat color of the dog.\n",
    "🔴 c. Create child classes ‘JackRussellTerrier’ and ‘Bulldog’ which is inherited from the class ‘Dog’. It should have at least two methods of its own.\n",
    "🔴 d. Create objects and implement the above functionalities."
   ]
  },
  {
   "cell_type": "code",
   "execution_count": 8,
   "metadata": {},
   "outputs": [
    {
     "name": "stdout",
     "output_type": "stream",
     "text": [
      "Name of the DOG: tommy\n",
      "AGE of the DOG: 2\n",
      "coat color of DOG: black\n",
      "\n",
      "coat color of DOG: brown\n",
      "Name of the DOG: Puppy\n",
      "AGE of the DOG: 5\n",
      "NICK name is ENGLISH BULLDOG\n",
      "wrinkled face\n",
      "\n",
      "Name of the DOG: Jack\n",
      "AGE of the DOG: 2.5\n",
      "coat color of DOG: shiny black\n",
      "Jack russel is from England\n",
      "Lifespan is 13-16 years\n"
     ]
    }
   ],
   "source": [
    "class Dog:                                  #created parent class Dog\n",
    "    def __init__(self,name,age,color):      #__init__consructor for instantiating an object\n",
    "        self.name=name\n",
    "        self.age=age                        #initialise the instance variable\n",
    "        self.color=color\n",
    "\n",
    "    def description(self):                       \n",
    "\n",
    "        print(\"Name of the DOG:\",self.name)\n",
    "        print(\"AGE of the DOG:\",self.age)\n",
    "\n",
    "    def getinfo(self):\n",
    "\n",
    "        print(\"coat color of DOG:\",self.color)\n",
    "\n",
    "class JackRussellTerrier(Dog):                       #created child class which inheritate the property of parent class\n",
    "    def __init__(self, name, age, color):\n",
    "        super().__init__(name, age, color)    \n",
    "\n",
    "    def Origin(self):\n",
    "        print(\"Jack russel is from England\")  \n",
    "\n",
    "    def Lifespan(self):\n",
    "        print(\"Lifespan is 13-16 years\")\n",
    "\n",
    "\n",
    "class Bulldog(Dog):                                    #created child class Bulldog which is inheriting the properties of parent class\n",
    "    def __init__(self, name, age, color):\n",
    "        super().__init__(name, age, color)             #invoke the instance variable of parent class\n",
    "\n",
    "    def Nickname(self):\n",
    "        print(\"NICK name is ENGLISH BULLDOG\")\n",
    "\n",
    "    def Appearance(self):\n",
    "        print(\"wrinkled face\")    \n",
    "\n",
    "obj=Dog('tommy',2,\"black\")                             #created an object of parents class\n",
    "obj.description()                                          #calling the method of parent class\n",
    "obj.getinfo()\n",
    "print()\n",
    "\n",
    "obj1=Bulldog('Puppy',5,\"brown\")                        #created an object of child class bulldog\n",
    "obj1.getinfo()                                         #calling the method of  parent class\n",
    "obj1.description()\n",
    "obj1.Nickname()                                        #calling the own mehtod of child class\n",
    "obj1.Appearance()\n",
    "print()\n",
    "\n",
    "obj2=JackRussellTerrier(\"Jack\",2.5,\"shiny black\")      #create an object of child classs JackRussel\n",
    "obj2.description()                                     #calling method of parent class\n",
    "obj2.getinfo()\n",
    "obj2.Origin()                                          #calling method of parent class\n",
    "obj2.Lifespan()\n",
    "\n",
    "    \n"
   ]
  }
 ],
 "metadata": {
  "kernelspec": {
   "display_name": "Python 3",
   "language": "python",
   "name": "python3"
  },
  "language_info": {
   "codemirror_mode": {
    "name": "ipython",
    "version": 3
   },
   "file_extension": ".py",
   "mimetype": "text/x-python",
   "name": "python",
   "nbconvert_exporter": "python",
   "pygments_lexer": "ipython3",
   "version": "3.10.4"
  },
  "orig_nbformat": 4
 },
 "nbformat": 4,
 "nbformat_minor": 2
}
