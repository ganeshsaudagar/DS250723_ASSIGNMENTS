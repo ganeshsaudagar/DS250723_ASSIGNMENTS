{
 "cells": [
  {
   "cell_type": "markdown",
   "metadata": {},
   "source": [
    "Exception:unwanted evet or error.\n",
    "exception handling:it is a alternate way to gracefully terminate our program ,\n",
    "it will not fix the error  but will handle it.\n",
    "\n",
    "exception handling blocks:\n",
    "\n",
    "1.try block: the code which is suspicious is kept inside the try block\n",
    "\n",
    "2.except block:it handles the excpetion\n",
    "\n",
    "3.finally block:it is used to execute certain  block of code  whether there is an error or not in the program.\n",
    "regardless of error.\n",
    "\n",
    "4.else block:it is used  to execute certain block of code if there is no error\n",
    "\n",
    "raise:its keyword\n",
    "used to raise an exception here we define the type of kind of error to be raised and the message to be printed\n",
    "\n"
   ]
  },
  {
   "cell_type": "code",
   "execution_count": 2,
   "metadata": {},
   "outputs": [
    {
     "ename": "TypeError",
     "evalue": "unsupported operand type(s) for +: 'int' and 'str'",
     "output_type": "error",
     "traceback": [
      "\u001b[1;31m---------------------------------------------------------------------------\u001b[0m",
      "\u001b[1;31mTypeError\u001b[0m                                 Traceback (most recent call last)",
      "\u001b[1;32me:\\Edyoda_My_Notes\\exception.ipynb Cell 3\u001b[0m line \u001b[0;36m<cell line: 3>\u001b[1;34m()\u001b[0m\n\u001b[0;32m      <a href='vscode-notebook-cell:/e%3A/Edyoda_My_Notes/exception.ipynb#W2sZmlsZQ%3D%3D?line=0'>1</a>\u001b[0m a\u001b[39m=\u001b[39m\u001b[39m10\u001b[39m\n\u001b[0;32m      <a href='vscode-notebook-cell:/e%3A/Edyoda_My_Notes/exception.ipynb#W2sZmlsZQ%3D%3D?line=1'>2</a>\u001b[0m b\u001b[39m=\u001b[39m\u001b[39m\"\u001b[39m\u001b[39mtwenty\u001b[39m\u001b[39m\"\u001b[39m\n\u001b[1;32m----> <a href='vscode-notebook-cell:/e%3A/Edyoda_My_Notes/exception.ipynb#W2sZmlsZQ%3D%3D?line=2'>3</a>\u001b[0m c\u001b[39m=\u001b[39ma\u001b[39m+\u001b[39;49mb\n",
      "\u001b[1;31mTypeError\u001b[0m: unsupported operand type(s) for +: 'int' and 'str'"
     ]
    }
   ],
   "source": [
    "a=10\n",
    "b=\"twenty\"\n",
    "c=a+b\n",
    "print(c)\n",
    "print(\"program finished\")  # i want to run next line after the error that we can use  doing exception\n",
    "print(\"-------------\")"
   ]
  },
  {
   "cell_type": "code",
   "execution_count": 4,
   "metadata": {},
   "outputs": [
    {
     "name": "stdout",
     "output_type": "stream",
     "text": [
      "error occured\n",
      "program finished\n",
      "_____________\n"
     ]
    }
   ],
   "source": [
    "\n",
    "try:\n",
    "    a=int(input(\"enter a value\"))    #here when user take i/p other than integer ,except block will execute \n",
    "    print(a)\n",
    "    b=int(input(\"enter  b value\"))\n",
    "    print(b)\n",
    "    c=a+b\n",
    "except:\n",
    "    print(\"error occured\")\n",
    "print(\"program finished\")\n",
    "print(\"_____________\")"
   ]
  },
  {
   "cell_type": "code",
   "execution_count": 6,
   "metadata": {},
   "outputs": [
    {
     "name": "stdout",
     "output_type": "stream",
     "text": [
      "error occured invalid literal for int() with base 10: 'hjhj'\n",
      "program finished\n",
      "_____________\n"
     ]
    }
   ],
   "source": [
    "\n",
    "try:\n",
    "    a=int(input(\"enter a value\"))\n",
    "    b=int(input(\"enter  b value\"))\n",
    "    c=a+b\n",
    "except Exception as  ex:     #we can print the error using as ex\n",
    "    print(\"error occured\",ex)\n",
    "print(\"program finished\")\n",
    "print(\"_____________\")"
   ]
  },
  {
   "cell_type": "code",
   "execution_count": 8,
   "metadata": {},
   "outputs": [
    {
     "ename": "FileNotFoundError",
     "evalue": "[Errno 2] No such file or directory: 'my_file.txt'",
     "output_type": "error",
     "traceback": [
      "\u001b[1;31m---------------------------------------------------------------------------\u001b[0m",
      "\u001b[1;31mFileNotFoundError\u001b[0m                         Traceback (most recent call last)",
      "\u001b[1;32me:\\Edyoda_My_Notes\\exception.ipynb Cell 6\u001b[0m line \u001b[0;36m<cell line: 3>\u001b[1;34m()\u001b[0m\n\u001b[0;32m      <a href='vscode-notebook-cell:/e%3A/Edyoda_My_Notes/exception.ipynb#W5sZmlsZQ%3D%3D?line=0'>1</a>\u001b[0m \u001b[39m#try to opne a file in read mode\u001b[39;00m\n\u001b[1;32m----> <a href='vscode-notebook-cell:/e%3A/Edyoda_My_Notes/exception.ipynb#W5sZmlsZQ%3D%3D?line=2'>3</a>\u001b[0m file\u001b[39m=\u001b[39m\u001b[39mopen\u001b[39;49m(\u001b[39m\"\u001b[39;49m\u001b[39mmy_file.txt\u001b[39;49m\u001b[39m\"\u001b[39;49m,\u001b[39m\"\u001b[39;49m\u001b[39mr\u001b[39;49m\u001b[39m\"\u001b[39;49m)\n",
      "\u001b[1;31mFileNotFoundError\u001b[0m: [Errno 2] No such file or directory: 'my_file.txt'"
     ]
    }
   ],
   "source": [
    "#try to opene a file in read mode\n",
    "\n",
    "file=open(\"my_file.txt\",\"r\")\n"
   ]
  },
  {
   "cell_type": "code",
   "execution_count": 10,
   "metadata": {},
   "outputs": [
    {
     "name": "stdout",
     "output_type": "stream",
     "text": [
      "THERE IS AN ERROR [Errno 2] No such file or directory: 'my_file.txt'\n",
      "program is finished succesfully\n"
     ]
    }
   ],
   "source": [
    "try:\n",
    "    file=open(\"my_file.txt\",\"r\")\n",
    "    data=file.read()\n",
    "    print(data)\n",
    "\n",
    "except Exception as ex:\n",
    "    print(\"THERE IS AN ERROR\",ex)\n",
    "\n",
    "print(\"program is finished succesfully\")\n",
    "\n",
    "\n"
   ]
  },
  {
   "cell_type": "code",
   "execution_count": 12,
   "metadata": {},
   "outputs": [
    {
     "name": "stdout",
     "output_type": "stream",
     "text": [
      "error division by zero\n",
      "--------------finished\n"
     ]
    }
   ],
   "source": [
    "try:\n",
    "    number=int(input(\"enter the number\"))\n",
    "    divisor=int(input(\"enter the divisor\"))\n",
    "    result=number/divisor\n",
    "except Exception as ex:\n",
    "    print(\"error\",ex)\n",
    "finally:\n",
    "    print(\"--------------finished\")\n"
   ]
  },
  {
   "cell_type": "code",
   "execution_count": 13,
   "metadata": {},
   "outputs": [
    {
     "name": "stdout",
     "output_type": "stream",
     "text": [
      "error division by zero\n"
     ]
    }
   ],
   "source": [
    "try:\n",
    "    number=int(input(\"enter the number\"))\n",
    "    divisor=int(input(\"enter the divisor\"))\n",
    "    result=number/divisor\n",
    "except Exception as ex:\n",
    "    print(\"error\",ex)\n",
    "else:\n",
    "    print(\"no error \")\n"
   ]
  },
  {
   "cell_type": "code",
   "execution_count": 14,
   "metadata": {},
   "outputs": [
    {
     "name": "stdout",
     "output_type": "stream",
     "text": [
      "and now we are  now using r+ modeadd some more dataand now we are  now using r+ modeadd some more data\n",
      "file si closed\n"
     ]
    }
   ],
   "source": [
    "try:\n",
    "    file=open(\"sample.txt\",\"r\")\n",
    "    data=file.read()\n",
    "    print(data)\n",
    "\n",
    "except Exception as ex:\n",
    "    print(\"THERE IS AN ERROR\",ex)\n",
    "\n",
    "else:\n",
    "    file.close()\n",
    "    print(\"file is closed\")\n"
   ]
  },
  {
   "cell_type": "code",
   "execution_count": null,
   "metadata": {},
   "outputs": [],
   "source": [
    "def prime_num(num):\n",
    "    if num ==1:\n",
    "        return False\n",
    "    elif num ==2:\n",
    "        return True\n",
    "    elif num>2:\n",
    "        status= True\n",
    "        for i in range(2,num):\n",
    "            status=False\n",
    "            return False\n",
    "        if status== True:\n",
    "            return True\n",
    "        \n",
    "    "
   ]
  },
  {
   "cell_type": "markdown",
   "metadata": {},
   "source": [
    "write a program for getting the nameand contact from the user if it is wrong or not in correct form raise an error using raise keyword"
   ]
  },
  {
   "cell_type": "code",
   "execution_count": null,
   "metadata": {},
   "outputs": [],
   "source": [
    "name=input(\"please enter your name\")\n",
    "print(name)\n",
    "contact=input(\"please enter your conatct no\")"
   ]
  },
  {
   "cell_type": "code",
   "execution_count": 5,
   "metadata": {},
   "outputs": [
    {
     "name": "stdout",
     "output_type": "stream",
     "text": [
      "Valid Number\n"
     ]
    }
   ],
   "source": [
    "import re # Importing re module\n",
    "n=input('Enter Mobile number :')  # Reading input from the user\n",
    "r=re.fullmatch('[6-9][0-9]{9}',n) # calling fullmatch function by passing pattern and n\n",
    "if r!=None: # checking whether it is none or not \n",
    "     print('Valid Number')\n",
    "else:\n",
    "     print('Not a valid number')"
   ]
  },
  {
   "cell_type": "code",
   "execution_count": 16,
   "metadata": {},
   "outputs": [
    {
     "ename": "TypeError",
     "evalue": "not a valid number",
     "output_type": "error",
     "traceback": [
      "\u001b[1;31m---------------------------------------------------------------------------\u001b[0m",
      "\u001b[1;31mTypeError\u001b[0m                                 Traceback (most recent call last)",
      "\u001b[1;32me:\\Edyoda_My_Notes\\exception.ipynb Cell 17\u001b[0m line \u001b[0;36m<cell line: 8>\u001b[1;34m()\u001b[0m\n\u001b[0;32m      <a href='vscode-notebook-cell:/e%3A/Edyoda_My_Notes/exception.ipynb#X24sZmlsZQ%3D%3D?line=8'>9</a>\u001b[0m      \u001b[39mprint\u001b[39m(\u001b[39m'\u001b[39m\u001b[39mValid Number\u001b[39m\u001b[39m'\u001b[39m)\n\u001b[0;32m     <a href='vscode-notebook-cell:/e%3A/Edyoda_My_Notes/exception.ipynb#X24sZmlsZQ%3D%3D?line=9'>10</a>\u001b[0m \u001b[39melse\u001b[39;00m:\n\u001b[1;32m---> <a href='vscode-notebook-cell:/e%3A/Edyoda_My_Notes/exception.ipynb#X24sZmlsZQ%3D%3D?line=10'>11</a>\u001b[0m      \u001b[39mraise\u001b[39;00m \u001b[39mTypeError\u001b[39;00m (\u001b[39m\"\u001b[39m\u001b[39mnot a valid number\u001b[39m\u001b[39m\"\u001b[39m)\n",
      "\u001b[1;31mTypeError\u001b[0m: not a valid number"
     ]
    }
   ],
   "source": [
    "import re \n",
    "contact=input('Enter Mobile number :') \n",
    "name=input(\"Enter  Name\")\n",
    "if type(name) !=str:\n",
    "     raise TypeError (\"not valid name\")\n",
    "r=re.fullmatch('[6-9][0-9]{9}',contact) \n",
    "\n",
    "if r!=None:\n",
    "     print('Valid Number')\n",
    "else:\n",
    "     raise TypeError (\"not a valid number\")"
   ]
  },
  {
   "cell_type": "code",
   "execution_count": null,
   "metadata": {},
   "outputs": [],
   "source": [
    "#syntax error and exception:\n",
    "#in python we hav an exception class\n",
    "\n"
   ]
  },
  {
   "cell_type": "markdown",
   "metadata": {},
   "source": [
    "#Generator in python:\n",
    "A generator in python is a function that returns a iterator using  the yield keyword.\n"
   ]
  },
  {
   "cell_type": "code",
   "execution_count": 6,
   "metadata": {},
   "outputs": [
    {
     "name": "stdout",
     "output_type": "stream",
     "text": [
      "1\n",
      "2\n",
      "3\n"
     ]
    }
   ],
   "source": [
    "#generator :\n",
    "#is function \n",
    "\n",
    "def  generator_fun():\n",
    "    yield 1\n",
    "    yield 2\n",
    "    yield 3\n",
    "for i in generator_fun():\n",
    "    print(i)"
   ]
  },
  {
   "cell_type": "code",
   "execution_count": 10,
   "metadata": {},
   "outputs": [
    {
     "name": "stdout",
     "output_type": "stream",
     "text": [
      "<generator object generator_fun at 0x0000028E5F0E8430>\n",
      "1\n",
      "2\n",
      "3\n"
     ]
    }
   ],
   "source": [
    "#generator object with next()\n",
    "def generator_fun():\n",
    "    yield 1\n",
    "    yield 2\n",
    "    yield 3\n",
    "\n",
    "obj=generator_fun()    #here created an object of generator function\n",
    "print(obj)\n",
    "print(next(obj))\n",
    "print(next(obj))    #iterating generator object usign next\n",
    "print(next(obj))\n",
    "\n"
   ]
  },
  {
   "cell_type": "code",
   "execution_count": 22,
   "metadata": {},
   "outputs": [
    {
     "name": "stdout",
     "output_type": "stream",
     "text": [
      "0\n",
      "1\n",
      "1\n",
      "2\n",
      "3\n",
      "5\n",
      "8\n",
      "13\n"
     ]
    }
   ],
   "source": [
    "#fibonicci series using generators and for loop:\n",
    "\n",
    "def fib_series(n):\n",
    "    a,b=0,1\n",
    "    while a < n:\n",
    "        print(a)\n",
    "        a,b=a+b,a\n",
    " \n",
    "fib_series(15)\n",
    "\n",
    "        \n"
   ]
  },
  {
   "cell_type": "code",
   "execution_count": 31,
   "metadata": {},
   "outputs": [
    {
     "name": "stdout",
     "output_type": "stream",
     "text": [
      "0\n",
      "1\n",
      "1\n",
      "2\n",
      "3\n"
     ]
    },
    {
     "ename": "StopIteration",
     "evalue": "",
     "output_type": "error",
     "traceback": [
      "\u001b[1;31m---------------------------------------------------------------------------\u001b[0m",
      "\u001b[1;31mStopIteration\u001b[0m                             Traceback (most recent call last)",
      "\u001b[1;32me:\\Edyoda_My_Notes\\exception.ipynb Cell 20\u001b[0m line \u001b[0;36m<cell line: 12>\u001b[1;34m()\u001b[0m\n\u001b[0;32m     <a href='vscode-notebook-cell:/e%3A/Edyoda_My_Notes/exception.ipynb#X34sZmlsZQ%3D%3D?line=9'>10</a>\u001b[0m \u001b[39mprint\u001b[39m(\u001b[39mnext\u001b[39m(x))\n\u001b[0;32m     <a href='vscode-notebook-cell:/e%3A/Edyoda_My_Notes/exception.ipynb#X34sZmlsZQ%3D%3D?line=10'>11</a>\u001b[0m \u001b[39mprint\u001b[39m(\u001b[39mnext\u001b[39m(x))\n\u001b[1;32m---> <a href='vscode-notebook-cell:/e%3A/Edyoda_My_Notes/exception.ipynb#X34sZmlsZQ%3D%3D?line=11'>12</a>\u001b[0m \u001b[39mprint\u001b[39m(\u001b[39mnext\u001b[39;49m(x))\n",
      "\u001b[1;31mStopIteration\u001b[0m: "
     ]
    }
   ],
   "source": [
    "def fib_series(n):\n",
    "    a,b=0,1\n",
    "    while a<n:\n",
    "        yield a\n",
    "        a,b=a+b,a\n",
    "x=fib_series(5)   #created an object of generator function\n",
    "print(next(x))\n",
    "print(next(x))\n",
    "print(next(x))\n",
    "print(next(x))\n",
    "print(next(x))\n",
    "print(next(x))"
   ]
  },
  {
   "cell_type": "code",
   "execution_count": 35,
   "metadata": {},
   "outputs": [
    {
     "name": "stdout",
     "output_type": "stream",
     "text": [
      "5\n",
      "6\n",
      "7\n",
      "8\n"
     ]
    }
   ],
   "source": [
    "def fun():\n",
    "    for i in range(10):\n",
    "        yield i+5\n",
    "\n",
    "obj=fun()\n",
    "print(next(obj))\n",
    "print(next(obj))\n",
    "print(next(obj))\n",
    "print(next(obj))"
   ]
  },
  {
   "cell_type": "code",
   "execution_count": 41,
   "metadata": {},
   "outputs": [
    {
     "name": "stdout",
     "output_type": "stream",
     "text": [
      "GaNeSh\n",
      "g\n",
      "A\n"
     ]
    }
   ],
   "source": [
    "def fun():\n",
    "    s=input(\"enter your string:\")\n",
    "    print(s)\n",
    "    for i in s:\n",
    "      yield i.swapcase()\n",
    "\n",
    "obj=fun()\n",
    "print(next(obj))\n",
    "print(next(obj))\n"
   ]
  }
 ],
 "metadata": {
  "kernelspec": {
   "display_name": "Python 3",
   "language": "python",
   "name": "python3"
  },
  "language_info": {
   "codemirror_mode": {
    "name": "ipython",
    "version": 3
   },
   "file_extension": ".py",
   "mimetype": "text/x-python",
   "name": "python",
   "nbconvert_exporter": "python",
   "pygments_lexer": "ipython3",
   "version": "3.10.4"
  },
  "orig_nbformat": 4
 },
 "nbformat": 4,
 "nbformat_minor": 2
}
